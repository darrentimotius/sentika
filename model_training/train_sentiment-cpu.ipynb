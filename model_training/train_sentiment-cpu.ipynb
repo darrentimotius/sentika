{
 "cells": [
  {
   "cell_type": "code",
   "execution_count": 14,
   "id": "60c5b2e2",
   "metadata": {},
   "outputs": [],
   "source": [
    "import numpy as np\n",
    "import random\n",
    "from transformers import BertForSequenceClassification, BertConfig, BertTokenizer\n",
    "import torch\n",
    "from torch.utils.data import DataLoader\n",
    "from torch import optim\n",
    "import torch.nn.functional as F\n",
    "from tqdm import tqdm\n",
    "from sklearn.metrics import accuracy_score, f1_score, recall_score, precision_score\n",
    "import pandas as pd"
   ]
  },
  {
   "cell_type": "code",
   "execution_count": 15,
   "id": "ef38d267",
   "metadata": {},
   "outputs": [],
   "source": [
    "# Common functions\n",
    "LABEL2INDEX = {'positive': 0, 'neutral': 1, 'negative': 2}\n",
    "INDEX2LABEL = {0: 'positive', 1: 'neutral', 2: 'negative'}\n",
    "NUM_LABELS = 3\n",
    "\n",
    "def set_seed(seed):\n",
    "    random.seed(seed)\n",
    "    np.random.seed(seed)\n",
    "    torch.manual_seed(seed)\n",
    "    torch.cuda.manual_seed(seed)\n",
    "    \n",
    "def count_param(module, trainable=False):\n",
    "    if trainable:\n",
    "        return sum(p.numel() for p in module.parameters() if p.requires_grad)\n",
    "    else:\n",
    "        return sum(p.numel() for p in module.parameters())\n",
    "    \n",
    "def get_lr(optimizer):\n",
    "    for param_group in optimizer.param_groups:\n",
    "        return param_group['lr']\n",
    "\n",
    "def metrics_to_string(metric_dict):\n",
    "    string_list = []\n",
    "    for key, value in metric_dict.items():\n",
    "        string_list.append('{}:{:.2f}'.format(key, value))\n",
    "    return ' '.join(string_list)"
   ]
  },
  {
   "cell_type": "code",
   "execution_count": 16,
   "id": "1308fd86",
   "metadata": {},
   "outputs": [],
   "source": [
    "# Set random seed\n",
    "set_seed(26092020)"
   ]
  },
  {
   "cell_type": "markdown",
   "id": "d538e934",
   "metadata": {},
   "source": [
    "### Load Model"
   ]
  },
  {
   "cell_type": "code",
   "execution_count": 17,
   "id": "e65f947e",
   "metadata": {},
   "outputs": [
    {
     "name": "stderr",
     "output_type": "stream",
     "text": [
      "Some weights of BertForSequenceClassification were not initialized from the model checkpoint at indobenchmark/indobert-base-p1 and are newly initialized: ['classifier.bias', 'classifier.weight']\n",
      "You should probably TRAIN this model on a down-stream task to be able to use it for predictions and inference.\n"
     ]
    }
   ],
   "source": [
    "# Load Tokenizer and Config\n",
    "tokenizer = BertTokenizer.from_pretrained('indobenchmark/indobert-base-p1')\n",
    "config = BertConfig.from_pretrained('indobenchmark/indobert-base-p1')\n",
    "config.num_labels = NUM_LABELS\n",
    "\n",
    "# Instantiate model\n",
    "model = BertForSequenceClassification.from_pretrained('indobenchmark/indobert-base-p1', config=config)"
   ]
  },
  {
   "cell_type": "markdown",
   "id": "7ab69562",
   "metadata": {},
   "source": [
    "### Prepare Dataset"
   ]
  },
  {
   "cell_type": "code",
   "execution_count": 18,
   "id": "a359f678",
   "metadata": {},
   "outputs": [],
   "source": [
    "# Processing Datasets\n",
    "def load_dataset(path):\n",
    "    df = pd.read_csv(path, sep='\\t', header=None)\n",
    "    df.columns = ['text', 'sentiment']\n",
    "    df['sentiment'] = df['sentiment'].apply(lambda lab: LABEL2INDEX[lab])\n",
    "    return df\n",
    "\n",
    "def encode_dataset(df, tokenizer, no_special_token=False):\n",
    "    encoded = []\n",
    "    for _, row in df.iterrows():\n",
    "        text = row['text']\n",
    "        sentiment = row['sentiment']\n",
    "        subwords = tokenizer.encode(text, add_special_tokens=not no_special_token)\n",
    "        encoded.append((np.array(subwords), np.array(sentiment), text))\n",
    "    return encoded\n",
    "\n",
    "def collate_fn(batch, max_seq_len=512):\n",
    "    batch_size = len(batch)\n",
    "    max_len = min(max(len(x[0]) for x in batch), max_seq_len)\n",
    "    \n",
    "    subword_batch = np.zeros((batch_size, max_len), dtype=np.int64)\n",
    "    mask_batch = np.zeros((batch_size, max_len), dtype=np.float32)\n",
    "    sentiment_batch = np.zeros((batch_size, 1), dtype=np.int64)\n",
    "    seq_list = []\n",
    "\n",
    "    for i, (subwords, sentiment, raw_seq) in enumerate(batch):\n",
    "        subwords = subwords[:max_len]\n",
    "        subword_batch[i, :len(subwords)] = subwords\n",
    "        mask_batch[i, :len(subwords)] = 1\n",
    "        sentiment_batch[i, 0] = sentiment\n",
    "        seq_list.append(raw_seq)\n",
    "\n",
    "    return (\n",
    "        torch.tensor(subword_batch),\n",
    "        torch.tensor(mask_batch),\n",
    "        torch.tensor(sentiment_batch),\n",
    "        seq_list\n",
    "    )"
   ]
  },
  {
   "cell_type": "code",
   "execution_count": 19,
   "id": "4e15e4be",
   "metadata": {},
   "outputs": [],
   "source": [
    "train_dataset_path = '../data/smsa/train_preprocess.tsv'\n",
    "valid_dataset_path = '../data/smsa/valid_preprocess.tsv'\n",
    "test_dataset_path = '../data/smsa/test_preprocess.tsv'\n",
    "test_labeling_path = '../data/smsa/test_preprocess_masked_label.tsv'"
   ]
  },
  {
   "cell_type": "code",
   "execution_count": 20,
   "id": "5c60d531",
   "metadata": {},
   "outputs": [],
   "source": [
    "train_df = load_dataset(train_dataset_path)\n",
    "valid_df = load_dataset(valid_dataset_path)\n",
    "test_df  = load_dataset(test_dataset_path)\n",
    "test_label_df = load_dataset(test_labeling_path)\n",
    "\n",
    "train_encoded = encode_dataset(train_df, tokenizer)\n",
    "valid_encoded = encode_dataset(valid_df, tokenizer)\n",
    "test_encoded  = encode_dataset(test_df, tokenizer)\n",
    "test_label_encoded = encode_dataset(test_label_df, tokenizer)"
   ]
  },
  {
   "cell_type": "code",
   "execution_count": 21,
   "id": "9b87f5b9",
   "metadata": {},
   "outputs": [],
   "source": [
    "train_loader = DataLoader(\n",
    "    train_encoded, batch_size=32, shuffle=True, num_workers=8,\n",
    "    collate_fn=lambda x: collate_fn(x, max_seq_len=512)\n",
    ")\n",
    "\n",
    "valid_loader = DataLoader(\n",
    "    valid_encoded, batch_size=32, shuffle=False, num_workers=8,\n",
    "    collate_fn=lambda x: collate_fn(x, max_seq_len=512)\n",
    ")\n",
    "\n",
    "test_loader = DataLoader(\n",
    "    test_encoded, batch_size=32, shuffle=False, num_workers=8,\n",
    "    collate_fn=lambda x: collate_fn(x, max_seq_len=512)\n",
    ")\n",
    "\n",
    "test_label_loader = DataLoader(\n",
    "    test_label_encoded, batch_size=32, shuffle=False, num_workers=8,\n",
    "    collate_fn=lambda x: collate_fn(x, max_seq_len=512)\n",
    ")"
   ]
  },
  {
   "cell_type": "code",
   "execution_count": 22,
   "id": "b9b1cad6",
   "metadata": {},
   "outputs": [
    {
     "name": "stdout",
     "output_type": "stream",
     "text": [
      "{'positive': 0, 'neutral': 1, 'negative': 2}\n",
      "{0: 'positive', 1: 'neutral', 2: 'negative'}\n"
     ]
    },
    {
     "data": {
      "application/vnd.microsoft.datawrangler.viewer.v0+json": {
       "columns": [
        {
         "name": "index",
         "rawType": "int64",
         "type": "integer"
        },
        {
         "name": "text",
         "rawType": "object",
         "type": "string"
        },
        {
         "name": "sentiment",
         "rawType": "int64",
         "type": "integer"
        }
       ],
       "ref": "ec9504ac-4bca-47c5-aa75-9d90de374df6",
       "rows": [
        [
         "0",
         "warung ini dimiliki oleh pengusaha pabrik tahu yang sudah puluhan tahun terkenal membuat tahu putih di bandung . tahu berkualitas , dipadu keahlian memasak , dipadu kretivitas , jadilah warung yang menyajikan menu utama berbahan tahu , ditambah menu umum lain seperti ayam . semuanya selera indonesia . harga cukup terjangkau . jangan lewatkan tahu bletoka nya , tidak kalah dengan yang asli dari tegal !",
         "0"
        ],
        [
         "1",
         "mohon ulama lurus dan k212 mmbri hujjah partai apa yang harus diwlh agar suara islam tidak pecah-pecah",
         "1"
        ],
        [
         "2",
         "lokasi strategis di jalan sumatera bandung . tempat nya nyaman terutama sofa di lantai 2 . paella nya enak , sangat pas dimakan dengan minum bir dingin . appetiser nya juga enak-enak .",
         "0"
        ],
        [
         "3",
         "betapa bahagia nya diri ini saat unboxing paket dan barang nya bagus ! menetapkan beli lagi !",
         "0"
        ],
        [
         "4",
         "duh . jadi mahasiswa jangan sombong dong . kasih kartu kuning segala . belajar dulu yang baik , tidak usahlah ikut-ikut politik . nanti sudah selesai kuliah nya mau ikut politik juga tidak telat . dasar mahasiswa .",
         "2"
        ],
        [
         "5",
         "makanan beragam , harga makanan di food stall akan ditambahkan 10 % lagi di kasir , suasana ramai dan perlu perhatian untuk mendapatkan parkir dan tempat duduk .",
         "0"
        ],
        [
         "6",
         "pakai kartu kredit bca tidak untung malah rugi besar",
         "2"
        ],
        [
         "7",
         "tempat unik , bagus buat foto , makanan enak , pegawai ramah , bersih dan luas , wifi kencang . harga standar dan sesuai dengan tempat nya . ada menu masakan makanan barat dan indonesia . menu favorit lychee mojito dan spagheti",
         "0"
        ],
        [
         "8",
         "saya bersama keluarga baru saja menikmati pengalaman kuliner yang menyenangkan di rm sari sunda di jalan . setiabudhi , bandung . tapi , karena tidak ada hubungan untuk rm sari sunda di jalan . setiabudhi , maka saya tuliskan di sini . jadi , maaf jika rekan-rekan pembaca ada yang bingung . beberapa hal yang saya suka dari restoran ini adalah bahwa pelayanan restoran ini terbilang cepat .",
         "0"
        ],
        [
         "9",
         "bersyukur",
         "0"
        ],
        [
         "10",
         "simcard indosat inaktiv gara-gara lupa isi pulsa dan kabar nya aktif jika pinda ke pasca bayar , ribet banget",
         "2"
        ],
        [
         "11",
         "sifat iri sering muncul pada orang orang yang tidak punya tujuan hidup",
         "2"
        ],
        [
         "12",
         "sekadar menceritakan pengalaman saya pesan steak grilled beef 200 tidak disajikanlah steak 200 tidak tersebut dalam 2 potongan 100 tidak - 100 tidak rasanya tidak buruk , namun kualitas daging nya yang membuat saya enggan memesan menu beef lagi khusus nya sirloin karena lemak nya terlalu banyak untuk ukuran steak namun , masih ada menu-menu lain yang sangat menempel di lidah saya sarankan untuk membeli menu berlabel cheese atau . lanjutan",
         "0"
        ],
        [
         "13",
         "pengalaman bersama indosat hari ini , semoga tidak terjadi pada pelanggan lain . sempat sampai marah-marah dengan pelayanan pelanggan indosat",
         "2"
        ],
        [
         "14",
         "anak sekarang sulit untuk dinasehati",
         "2"
        ],
        [
         "15",
         "hanya mengatasi masalah kayak gini saja anies sandi tidak becus . ke mana saja pasukan kebersihan yang begitu banyak jumlah nya ?",
         "2"
        ],
        [
         "16",
         "setiap bumn dibentuk dengan uu bukan dibentuk dengan uu .",
         "1"
        ],
        [
         "17",
         "sehabis puas bermain di trans studio bandung , saya bersama teman sepakat untuk makan ayam kakek di sini . ayam nya selalu enak dan gurih !",
         "0"
        ],
        [
         "18",
         "rasa bakso cuanki dan batagor cukup . selalu ramai pengunjung . buka sekitar jam 10 pagi . dari jalan riau menuju jalan a yani ada sisi kiri jalan sekitar jalan anggrek . harga per porsi sekitar rp 14 000 . datanglah lebih awal karena selalu ramai pengunjung",
         "0"
        ],
        [
         "19",
         "sgwr 2018 beri dampak positif terhadap hobi anak-anak",
         "0"
        ],
        [
         "20",
         "berada di lembang , pemandangan indah , udara sejuk , penataan resto yang bagus , dilengkapi dengan makanan yang sangat nikmat . pilihan menu beragam dan minuman yang lengkap . lingkungan yang cocok untuk makan berdua dengan pasangan , membawa keluarga ataupun bersama dengan teman . lapangan parkir luas . restoran yang berkonsep terbuka ini membuat udara lembang sangat terasa sejuk nya .",
         "0"
        ],
        [
         "21",
         "berbuka puasa di sini pada minggu lepas , pak supir yang mencadangkan tempat makan ini . makanan nya di sini sedap dan harga berpatutan . tempat nya luas dan cantik . rekomendasi too others to dine in here to rasa authentic sunda makanan indonesia .",
         "0"
        ],
        [
         "22",
         "hahaha suka banget nonton kartun indonesia keluarga pak tomat",
         "0"
        ],
        [
         "23",
         "bagi teman-teman yang sedang berkunjung ke bandung bisa mampir ke kopi anjis untuk makan makanan yang tidak terlalu berat . ada cilok rakyat ditemankan dengan teh sereh dan lekker .",
         "0"
        ],
        [
         "24",
         "di restoran ini , saya dan keluarga makan malam yang terakhir di bandung . kami berjumlah 8 orang dan bila nya hanya sekitar 400 an , benar-benar murah meriah , sampai makan double-double lagi . makanan nya juga enak , suasana kafe menarik , pelayanan sangat bagus . saya masih teringat petunjuk toilet yang ada di restoran ini men to the pergi , karena momen are selalu ribut hahahaha . setimpal .",
         "0"
        ],
        [
         "25",
         "alhamdulillah hari ini tidak ke jalan bugel agak kesal juga kalau tiap hari lewat sana melulu . sempit , dua arah , macet sudah jadi makanan sehari-hari",
         "2"
        ],
        [
         "26",
         "respon agak lama , sama sayang nya rem nya bukan asli , masih rom distrobitor",
         "2"
        ],
        [
         "27",
         "lokasi dengan pemandangan alam yang masih natural dan indah . suasana juga sejuk dan tenang . hanya saja banyak nyamuk dan harga makanan relatif mahal .",
         "0"
        ],
        [
         "28",
         "pdip sebut ridwan kamil menang karena berbaju merah",
         "1"
        ],
        [
         "29",
         "malu - maluin nih oknum yang tidak bertanggung jawab .",
         "2"
        ],
        [
         "30",
         "makan siang di sini asyik juga . nuansa bali walaupun music nya musik sunda kadang musik khas bali bergantian . tempat nya enak dan adem tapi sayang sekali pesan kopi lama banget datang nya , diminta berkali kali , iya pak iya pak hampir 1 jam dan ketika kopi datang pun bukan kopi panas tapi kopi ade , ini kah ciri khas kopi di sini . kalau khas nya kopi dingin tidak enak .",
         "2"
        ],
        [
         "31",
         "tempat steak di bandung sejak lama dari zaman setiabudi sampai sekarang buka cabang di riau . tempat di riau ini lebih besar , parkiran juga tidak sulit seperti di setiabudi . lokasi di tempat kuliner jalan riau . porsi dan harga nya pas untuk ukuran steak . untuk zoom non smoking nya nyaman .",
         "0"
        ],
        [
         "32",
         "08:30 : kedatangan presiden ri dan rombongan di gate 2 , terminal 3 disambut oleh menteri perhubungan , menteri bumn , gubernur banten , dirjen perkeretaapian kemhub , dirut ap2 , dirut pt kami , dan dirut railink",
         "1"
        ],
        [
         "33",
         "makanan tradisional yang selalu rasanya stabil iga garang asam nya dan java steak nya jangan lupa ya dicoba hidangan penutup semua kue enak lemper soes fla gulung . enak sekali tidak ada yang tidak enak kalau makanan di sini .",
         "0"
        ],
        [
         "34",
         "sampai saat ini saya rasa batagor ini masih yang terenak di kota bandung dibandingkan dengan batagor lainnya yang saya pernah coba . bumbu kacang nya pas rasanya di lidah , dan batagor nya juga tidak amis bau nya . silakan mencoba untuk yang belum pernah coba .",
         "0"
        ],
        [
         "35",
         "aroma khas yang ada jika makan di atas daun pisang , ya walau ramai tempat ini selalu jadi favourit saya jika ke bandung .",
         "0"
        ],
        [
         "36",
         "akhir tahun lalu saya dan keluarga berjalan ke daerah lembang dan tidak sengaja mampir makan di resto ini . suasana nya nyaman , pelayanan juga ramah dan berlebihan ala kami puas . makanan yang di sajikan standar seperti makanan di restoran pada umum nya , tetapi yang membuat berbeda adalah sambal stroberi yang yummy dan bikin ketagihan . di sana selain bisa makan kita juga bisa sambil memetik . lanjutan",
         "0"
        ],
        [
         "37",
         "risma menjatuhkan pilihan nya pada gus ipul - puti di pilgub jatim 2018 ini .",
         "1"
        ],
        [
         "38",
         "pengalaman yang cukup seru , makan tanpa alas piring , tapi hanya dengan alas daun , makin nikmat . makanan sunda yang sangat bervariatif dan cukup enak . tips nya : jangan terbawa emosi dan kalap memesan dan memilih semua makanan yang disediakan biasanya kalap kalau sudah melihat makanan macam-macam begitu . pilih seperlunya .",
         "0"
        ],
        [
         "39",
         "makanan nya enak , suasana nyaman . harga bisa dibilang sama dengan tempat lain . restoran ini ada 4 konsep tapi yang paling terkenal menu jepang nya yang enak loh",
         "0"
        ],
        [
         "40",
         "kampung daun adalah tempat makan yang menyatukan konsep alam dan budaya dari daerah setempat . walaupun di dalam kompleks perumahan akan tetapi tempat tersebut cukup luas mempunyai mungkin sekitar 20 lebih saung / tempat makan dari yang kapasitas sedang hingga besar . kualitas makanan enak dan dengan ada nya suara riak air dari air terjun kecil di sana membuat suasana sangat nyaman untuk makan .",
         "0"
        ],
        [
         "41",
         "waktu itu ke sini pesan nasi goreng dan kentang goreng , nasi goreng nya semua suka . kentang goreng nya enak banget , dan presentasi nya bagus . keluarga bilang kopi nya enak . hal yang sangat baik di sini adalah tempat nya luas dan yang di luar bisa lihat pemandangan dusun bambu , tapi pelayanan nya tidak cepat sehingga saya harus bertanya beberapa kali tentang pesanan saya . harga nya cukup mahal , namun karena makanan nya enak semua jadi terbayarkan . tidak perlu pikir dua kali jika mau ke tempat ini lagi .",
         "0"
        ],
        [
         "42",
         "banyak sekali tempat makan sunda yang bertebaran di kota bandung , tetapi tidak tahu kenapa saya sangat jatuh hati dengan sebuah warung makan ini . ibu imas yang berada di dekat alun-alun kota bandung menyuguhkan rumah makan sunda dengan karakter warung nasi zaman dahulu yang di mana kita bisa mengambil semua hidangan di depan kita tanpa harus melalui proses order yang biasa kita jumpai di warung makan .",
         "0"
        ],
        [
         "43",
         "hai tolong bantu saya tidak bisa input tidak resi jne dan kenomor resi sudah dipakai .",
         "1"
        ],
        [
         "44",
         "foods : menu baru cheeseburger nya oke banget dan chicken wings pizza hut memang selalu juara . dirilis : mixing green tea yakult , perfect ! satu-satunya kekurangan pizza hut adalah pinggiran nya ,",
         "0"
        ],
        [
         "45",
         "dusun bambu ini tergolong baru di bandung . tempat nya yang dekat banget sama almamater saya . membuat saya gampang cari ini tempat . pemandangan nya bagus . banyak tempat makan yang enak-enak . beli nya nanti pakai voucher .",
         "0"
        ],
        [
         "46",
         "tidak memuaskan",
         "2"
        ],
        [
         "47",
         "suruh ngaca pemain nya ! dasar oneng ! ngomong saja masih ala betawi lu ! kampungan !",
         "2"
        ],
        [
         "48",
         "kafe ini menyajikan sensasi makan dalam gelap . cukup unik sih , tetapi lebih dari sekali , rasanya orang jarang datang lagi . hanya menarik untuk sekadar mencoba .",
         "2"
        ],
        [
         "49",
         "sesuai dengan nama nya mi awie , kedai makan ini menyediakan menu mi dengan olahan daging babi . selain mi masih ada pilihan lainnya seperti nasi goreng babi , capjay goreng , bakso , pangsit dan lainnya . kami mencoba menu mi babi casau special , rasanya . enak banget !",
         "0"
        ]
       ],
       "shape": {
        "columns": 2,
        "rows": 11000
       }
      },
      "text/html": [
       "<div>\n",
       "<style scoped>\n",
       "    .dataframe tbody tr th:only-of-type {\n",
       "        vertical-align: middle;\n",
       "    }\n",
       "\n",
       "    .dataframe tbody tr th {\n",
       "        vertical-align: top;\n",
       "    }\n",
       "\n",
       "    .dataframe thead th {\n",
       "        text-align: right;\n",
       "    }\n",
       "</style>\n",
       "<table border=\"1\" class=\"dataframe\">\n",
       "  <thead>\n",
       "    <tr style=\"text-align: right;\">\n",
       "      <th></th>\n",
       "      <th>text</th>\n",
       "      <th>sentiment</th>\n",
       "    </tr>\n",
       "  </thead>\n",
       "  <tbody>\n",
       "    <tr>\n",
       "      <th>0</th>\n",
       "      <td>warung ini dimiliki oleh pengusaha pabrik tahu...</td>\n",
       "      <td>0</td>\n",
       "    </tr>\n",
       "    <tr>\n",
       "      <th>1</th>\n",
       "      <td>mohon ulama lurus dan k212 mmbri hujjah partai...</td>\n",
       "      <td>1</td>\n",
       "    </tr>\n",
       "    <tr>\n",
       "      <th>2</th>\n",
       "      <td>lokasi strategis di jalan sumatera bandung . t...</td>\n",
       "      <td>0</td>\n",
       "    </tr>\n",
       "    <tr>\n",
       "      <th>3</th>\n",
       "      <td>betapa bahagia nya diri ini saat unboxing pake...</td>\n",
       "      <td>0</td>\n",
       "    </tr>\n",
       "    <tr>\n",
       "      <th>4</th>\n",
       "      <td>duh . jadi mahasiswa jangan sombong dong . kas...</td>\n",
       "      <td>2</td>\n",
       "    </tr>\n",
       "    <tr>\n",
       "      <th>...</th>\n",
       "      <td>...</td>\n",
       "      <td>...</td>\n",
       "    </tr>\n",
       "    <tr>\n",
       "      <th>10995</th>\n",
       "      <td>tidak kecewa</td>\n",
       "      <td>0</td>\n",
       "    </tr>\n",
       "    <tr>\n",
       "      <th>10996</th>\n",
       "      <td>enak rasa masakan nya apalagi kepiting yang me...</td>\n",
       "      <td>0</td>\n",
       "    </tr>\n",
       "    <tr>\n",
       "      <th>10997</th>\n",
       "      <td>hormati partai-partai yang telah berkoalisi</td>\n",
       "      <td>1</td>\n",
       "    </tr>\n",
       "    <tr>\n",
       "      <th>10998</th>\n",
       "      <td>pagi pagi di tol pasteur sudah macet parah , b...</td>\n",
       "      <td>2</td>\n",
       "    </tr>\n",
       "    <tr>\n",
       "      <th>10999</th>\n",
       "      <td>meskipun sering belanja ke yogya di riau junct...</td>\n",
       "      <td>0</td>\n",
       "    </tr>\n",
       "  </tbody>\n",
       "</table>\n",
       "<p>11000 rows × 2 columns</p>\n",
       "</div>"
      ],
      "text/plain": [
       "                                                    text  sentiment\n",
       "0      warung ini dimiliki oleh pengusaha pabrik tahu...          0\n",
       "1      mohon ulama lurus dan k212 mmbri hujjah partai...          1\n",
       "2      lokasi strategis di jalan sumatera bandung . t...          0\n",
       "3      betapa bahagia nya diri ini saat unboxing pake...          0\n",
       "4      duh . jadi mahasiswa jangan sombong dong . kas...          2\n",
       "...                                                  ...        ...\n",
       "10995                                       tidak kecewa          0\n",
       "10996  enak rasa masakan nya apalagi kepiting yang me...          0\n",
       "10997        hormati partai-partai yang telah berkoalisi          1\n",
       "10998  pagi pagi di tol pasteur sudah macet parah , b...          2\n",
       "10999  meskipun sering belanja ke yogya di riau junct...          0\n",
       "\n",
       "[11000 rows x 2 columns]"
      ]
     },
     "execution_count": 22,
     "metadata": {},
     "output_type": "execute_result"
    }
   ],
   "source": [
    "w2i, i2w = LABEL2INDEX, INDEX2LABEL\n",
    "print(w2i)\n",
    "print(i2w)\n",
    "\n",
    "train_df"
   ]
  },
  {
   "cell_type": "markdown",
   "id": "7593a59e",
   "metadata": {},
   "source": [
    "### Fine tuning and evaluation"
   ]
  },
  {
   "cell_type": "code",
   "execution_count": 23,
   "id": "6b4bc087",
   "metadata": {},
   "outputs": [],
   "source": [
    "optimizer = optim.Adam(model.parameters(), lr=5e-6)\n",
    "model = model.cpu()"
   ]
  },
  {
   "cell_type": "code",
   "execution_count": 24,
   "id": "f5648aad",
   "metadata": {},
   "outputs": [],
   "source": [
    "def forward_sequence_classification(model, batch_data, i2w, is_test=False, device='cpu'):\n",
    "    \"\"\"\n",
    "    Forward function for sequence classification.\n",
    "    \n",
    "    Parameters:\n",
    "        model      : torch.nn.Module\n",
    "        batch_data : tuple of (input_ids, attention_mask, [token_type_ids], labels)\n",
    "        i2w        : dict, index to label mapping\n",
    "        is_test    : bool, whether test mode (optional)\n",
    "        device     : str or torch.device\n",
    "    \n",
    "    Returns:\n",
    "        loss       : torch.Tensor\n",
    "        list_hyp   : list of predicted labels\n",
    "        list_label : list of ground truth labels\n",
    "    \"\"\"\n",
    "    \n",
    "    # Move data to tensors\n",
    "    if len(batch_data) == 3:\n",
    "        input_ids, attention_mask, labels = batch_data\n",
    "        token_type_ids = None\n",
    "    else:\n",
    "        input_ids, attention_mask, token_type_ids, labels = batch_data\n",
    "    \n",
    "    input_ids = torch.as_tensor(input_ids).to(device)\n",
    "    attention_mask = torch.as_tensor(attention_mask).to(device)\n",
    "    labels = torch.as_tensor(labels).to(device)\n",
    "    \n",
    "    if token_type_ids is not None:\n",
    "        token_type_ids = torch.tensor(token_type_ids).to(device)\n",
    "\n",
    "    # Forward pass\n",
    "    outputs = model(\n",
    "        input_ids, \n",
    "        attention_mask=attention_mask, \n",
    "        token_type_ids=token_type_ids, \n",
    "        labels=labels\n",
    "    )\n",
    "    loss, logits = outputs[:2]\n",
    "\n",
    "    # Get predictions\n",
    "    preds = torch.argmax(logits, dim=1)\n",
    "    \n",
    "    list_hyp = [i2w[p.item()] for p in preds]\n",
    "    list_label = [i2w[l.item()] for l in labels]\n",
    "\n",
    "    return loss, list_hyp, list_label\n",
    "\n",
    "def document_sentiment_metrics_fn(list_hyp, list_label):\n",
    "    metrics = {}\n",
    "    metrics[\"ACC\"] = accuracy_score(list_label, list_hyp)\n",
    "    metrics[\"F1\"] = f1_score(list_label, list_hyp, average='macro')\n",
    "    metrics[\"REC\"] = recall_score(list_label, list_hyp, average='macro')\n",
    "    metrics[\"PRE\"] = precision_score(list_label, list_hyp, average='macro')\n",
    "    return metrics"
   ]
  },
  {
   "cell_type": "code",
   "execution_count": null,
   "id": "3ab072de",
   "metadata": {},
   "outputs": [],
   "source": [
    "# Training model\n",
    "n_epochs = 6\n",
    "\n",
    "for epoch in range(n_epochs):\n",
    "    model.train()\n",
    "    torch.set_grad_enabled(True)\n",
    "\n",
    "    total_train_loss = 0\n",
    "    list_hyp, list_label = [], []\n",
    "\n",
    "    train_pbar = tqdm(train_loader, leave=True, total=len(train_loader))\n",
    "    for i, batch_data in enumerate(train_pbar):\n",
    "        # Forward model\n",
    "        loss, batch_hyp, batch_label = forward_sequence_classification(\n",
    "            model, batch_data[:-1], i2w=i2w, device='cpu'\n",
    "        )\n",
    "\n",
    "        # Update model\n",
    "        optimizer.zero_grad()\n",
    "        loss.backward()\n",
    "        optimizer.step()\n",
    "\n",
    "        tr_loss = loss.item()\n",
    "        total_train_loss += tr_loss\n",
    "\n",
    "        # Track predictions\n",
    "        list_hyp += batch_hyp\n",
    "        list_label += batch_label\n",
    "\n",
    "        current_lr = optimizer.param_groups[0]['lr']\n",
    "        train_pbar.set_description(\n",
    "            f\"(Epoch {epoch+1}) TRAIN LOSS:{total_train_loss/(i+1):.4f} LR:{current_lr:.8f}\"\n",
    "        )\n",
    "\n",
    "    # Train metrics\n",
    "    metrics = document_sentiment_metrics_fn(list_hyp, list_label)\n",
    "    print(f\"(Epoch {epoch+1}) TRAIN LOSS:{total_train_loss/(i+1):.4f} {metrics_to_string(metrics)} \"\n",
    "        f\"LR:{current_lr:.8f}\")\n",
    "\n",
    "    # Validation\n",
    "    model.eval()\n",
    "    torch.set_grad_enabled(False)\n",
    "\n",
    "    total_loss = 0\n",
    "    list_hyp, list_label = [], []\n",
    "\n",
    "    pbar = tqdm(valid_loader, leave=True, total=len(valid_loader))\n",
    "    for i, batch_data in enumerate(pbar):\n",
    "        loss, batch_hyp, batch_label = forward_sequence_classification(\n",
    "            model, batch_data[:-1], i2w=i2w, device='cpu'\n",
    "        )\n",
    "\n",
    "        total_loss += loss.item()\n",
    "        list_hyp += batch_hyp\n",
    "        list_label += batch_label\n",
    "\n",
    "        metrics = document_sentiment_metrics_fn(list_hyp, list_label)\n",
    "        pbar.set_description(\n",
    "            f\"VALID LOSS:{total_loss/(i+1):.4f} {metrics_to_string(metrics)}\"\n",
    "        )\n",
    "\n",
    "    metrics = document_sentiment_metrics_fn(list_hyp, list_label)\n",
    "    print(f\"(Epoch {epoch+1}) VALID LOSS:{total_loss/(i+1):.4f} {metrics_to_string(metrics)}\")"
   ]
  },
  {
   "cell_type": "code",
   "execution_count": 25,
   "id": "1990f5d0",
   "metadata": {},
   "outputs": [
    {
     "name": "stderr",
     "output_type": "stream",
     "text": [
      "100%|██████████| 16/16 [00:27<00:00,  1.69s/it]"
     ]
    },
    {
     "name": "stdout",
     "output_type": "stream",
     "text": [
      "TEST Metrics | ACC:0.91 F1:0.89 REC:0.87 PRE:0.90\n"
     ]
    },
    {
     "name": "stderr",
     "output_type": "stream",
     "text": [
      "\n"
     ]
    }
   ],
   "source": [
    "# Evaluate on test\n",
    "model.load_state_dict(torch.load(\"../backend/model/smsa-model.pt\", map_location='cpu'))\n",
    "model.eval()\n",
    "torch.set_grad_enabled(False)\n",
    "\n",
    "total_loss, total_correct, total_labels = 0, 0, 0\n",
    "list_hyp, list_label = [], []\n",
    "\n",
    "pbar = tqdm(test_loader, leave=True, total=len(test_loader))\n",
    "for i, batch_data in enumerate(pbar):\n",
    "    _, batch_hyp, batch_label = forward_sequence_classification(model, batch_data[:-1], i2w=i2w, device='cpu')\n",
    "    list_hyp += batch_hyp\n",
    "    list_label += batch_label\n",
    "metrics = document_sentiment_metrics_fn(list_hyp, list_label)\n",
    "print(\"TEST Metrics | {}\".format(metrics_to_string(metrics)))"
   ]
  },
  {
   "cell_type": "markdown",
   "id": "b1e0c240",
   "metadata": {},
   "source": [
    "### Testing model from .csv file and sample sentences"
   ]
  },
  {
   "cell_type": "code",
   "execution_count": 27,
   "id": "0a9ec7c5",
   "metadata": {},
   "outputs": [
    {
     "name": "stderr",
     "output_type": "stream",
     "text": [
      "100%|██████████| 16/16 [00:27<00:00,  1.69s/it]\n"
     ]
    },
    {
     "data": {
      "application/vnd.microsoft.datawrangler.viewer.v0+json": {
       "columns": [
        {
         "name": "index",
         "rawType": "int64",
         "type": "integer"
        },
        {
         "name": "index",
         "rawType": "int64",
         "type": "integer"
        },
        {
         "name": "label",
         "rawType": "object",
         "type": "string"
        }
       ],
       "ref": "b65563fb-f7be-429c-8c4e-adbede78b9f0",
       "rows": [
        [
         "0",
         "0",
         "negative"
        ],
        [
         "1",
         "1",
         "negative"
        ],
        [
         "2",
         "2",
         "negative"
        ],
        [
         "3",
         "3",
         "negative"
        ],
        [
         "4",
         "4",
         "negative"
        ],
        [
         "5",
         "5",
         "negative"
        ],
        [
         "6",
         "6",
         "negative"
        ],
        [
         "7",
         "7",
         "negative"
        ],
        [
         "8",
         "8",
         "negative"
        ],
        [
         "9",
         "9",
         "negative"
        ],
        [
         "10",
         "10",
         "negative"
        ],
        [
         "11",
         "11",
         "negative"
        ],
        [
         "12",
         "12",
         "negative"
        ],
        [
         "13",
         "13",
         "negative"
        ],
        [
         "14",
         "14",
         "negative"
        ],
        [
         "15",
         "15",
         "negative"
        ],
        [
         "16",
         "16",
         "negative"
        ],
        [
         "17",
         "17",
         "negative"
        ],
        [
         "18",
         "18",
         "negative"
        ],
        [
         "19",
         "19",
         "negative"
        ],
        [
         "20",
         "20",
         "negative"
        ],
        [
         "21",
         "21",
         "negative"
        ],
        [
         "22",
         "22",
         "negative"
        ],
        [
         "23",
         "23",
         "negative"
        ],
        [
         "24",
         "24",
         "negative"
        ],
        [
         "25",
         "25",
         "negative"
        ],
        [
         "26",
         "26",
         "negative"
        ],
        [
         "27",
         "27",
         "negative"
        ],
        [
         "28",
         "28",
         "negative"
        ],
        [
         "29",
         "29",
         "negative"
        ],
        [
         "30",
         "30",
         "negative"
        ],
        [
         "31",
         "31",
         "negative"
        ],
        [
         "32",
         "32",
         "negative"
        ],
        [
         "33",
         "33",
         "negative"
        ],
        [
         "34",
         "34",
         "negative"
        ],
        [
         "35",
         "35",
         "negative"
        ],
        [
         "36",
         "36",
         "negative"
        ],
        [
         "37",
         "37",
         "negative"
        ],
        [
         "38",
         "38",
         "negative"
        ],
        [
         "39",
         "39",
         "negative"
        ],
        [
         "40",
         "40",
         "negative"
        ],
        [
         "41",
         "41",
         "negative"
        ],
        [
         "42",
         "42",
         "negative"
        ],
        [
         "43",
         "43",
         "negative"
        ],
        [
         "44",
         "44",
         "negative"
        ],
        [
         "45",
         "45",
         "negative"
        ],
        [
         "46",
         "46",
         "negative"
        ],
        [
         "47",
         "47",
         "negative"
        ],
        [
         "48",
         "48",
         "negative"
        ],
        [
         "49",
         "49",
         "negative"
        ]
       ],
       "shape": {
        "columns": 2,
        "rows": 500
       }
      },
      "text/html": [
       "<div>\n",
       "<style scoped>\n",
       "    .dataframe tbody tr th:only-of-type {\n",
       "        vertical-align: middle;\n",
       "    }\n",
       "\n",
       "    .dataframe tbody tr th {\n",
       "        vertical-align: top;\n",
       "    }\n",
       "\n",
       "    .dataframe thead th {\n",
       "        text-align: right;\n",
       "    }\n",
       "</style>\n",
       "<table border=\"1\" class=\"dataframe\">\n",
       "  <thead>\n",
       "    <tr style=\"text-align: right;\">\n",
       "      <th></th>\n",
       "      <th>index</th>\n",
       "      <th>label</th>\n",
       "    </tr>\n",
       "  </thead>\n",
       "  <tbody>\n",
       "    <tr>\n",
       "      <th>0</th>\n",
       "      <td>0</td>\n",
       "      <td>negative</td>\n",
       "    </tr>\n",
       "    <tr>\n",
       "      <th>1</th>\n",
       "      <td>1</td>\n",
       "      <td>negative</td>\n",
       "    </tr>\n",
       "    <tr>\n",
       "      <th>2</th>\n",
       "      <td>2</td>\n",
       "      <td>negative</td>\n",
       "    </tr>\n",
       "    <tr>\n",
       "      <th>3</th>\n",
       "      <td>3</td>\n",
       "      <td>negative</td>\n",
       "    </tr>\n",
       "    <tr>\n",
       "      <th>4</th>\n",
       "      <td>4</td>\n",
       "      <td>negative</td>\n",
       "    </tr>\n",
       "    <tr>\n",
       "      <th>...</th>\n",
       "      <td>...</td>\n",
       "      <td>...</td>\n",
       "    </tr>\n",
       "    <tr>\n",
       "      <th>495</th>\n",
       "      <td>495</td>\n",
       "      <td>neutral</td>\n",
       "    </tr>\n",
       "    <tr>\n",
       "      <th>496</th>\n",
       "      <td>496</td>\n",
       "      <td>neutral</td>\n",
       "    </tr>\n",
       "    <tr>\n",
       "      <th>497</th>\n",
       "      <td>497</td>\n",
       "      <td>neutral</td>\n",
       "    </tr>\n",
       "    <tr>\n",
       "      <th>498</th>\n",
       "      <td>498</td>\n",
       "      <td>positive</td>\n",
       "    </tr>\n",
       "    <tr>\n",
       "      <th>499</th>\n",
       "      <td>499</td>\n",
       "      <td>positive</td>\n",
       "    </tr>\n",
       "  </tbody>\n",
       "</table>\n",
       "<p>500 rows × 2 columns</p>\n",
       "</div>"
      ],
      "text/plain": [
       "     index     label\n",
       "0        0  negative\n",
       "1        1  negative\n",
       "2        2  negative\n",
       "3        3  negative\n",
       "4        4  negative\n",
       "..     ...       ...\n",
       "495    495   neutral\n",
       "496    496   neutral\n",
       "497    497   neutral\n",
       "498    498  positive\n",
       "499    499  positive\n",
       "\n",
       "[500 rows x 2 columns]"
      ]
     },
     "execution_count": 27,
     "metadata": {},
     "output_type": "execute_result"
    }
   ],
   "source": [
    "# Labeling data\n",
    "model.load_state_dict(torch.load(\"../backend/model/smsa-model.pt\", map_location='cpu'))\n",
    "model.eval()\n",
    "torch.set_grad_enabled(False)\n",
    "\n",
    "total_loss, total_correct, total_labels = 0, 0, 0\n",
    "list_hyp, list_label = [], []\n",
    "\n",
    "pbar = tqdm(test_label_loader, leave=True, total=len(test_label_loader))\n",
    "for i, batch_data in enumerate(pbar):\n",
    "    _, batch_hyp, batch_label = forward_sequence_classification(model, batch_data[:-1], i2w=i2w, device='cpu')\n",
    "    list_hyp += batch_hyp\n",
    "\n",
    "# Save prediction\n",
    "df = pd.DataFrame({'label':list_hyp}).reset_index()\n",
    "df.to_csv('pred.csv', index=False)\n",
    "\n",
    "df"
   ]
  },
  {
   "cell_type": "code",
   "execution_count": 28,
   "id": "5b8b6e94",
   "metadata": {},
   "outputs": [
    {
     "name": "stdout",
     "output_type": "stream",
     "text": [
      "Index(['text', 'sentiment'], dtype='object')\n"
     ]
    }
   ],
   "source": [
    "# Combine and compare with true\n",
    "print(test_df.columns)\n",
    "\n",
    "combined_test_df = test_df\n",
    "combined_test_df['sentiment'] = combined_test_df['sentiment'].apply(lambda lab: i2w[lab])\n",
    "combined_test_df['label'] = df['label'].values"
   ]
  },
  {
   "cell_type": "code",
   "execution_count": 29,
   "id": "8bb41650",
   "metadata": {},
   "outputs": [
    {
     "data": {
      "application/vnd.microsoft.datawrangler.viewer.v0+json": {
       "columns": [
        {
         "name": "index",
         "rawType": "int64",
         "type": "integer"
        },
        {
         "name": "text",
         "rawType": "object",
         "type": "string"
        },
        {
         "name": "sentiment",
         "rawType": "object",
         "type": "string"
        },
        {
         "name": "label",
         "rawType": "object",
         "type": "string"
        }
       ],
       "ref": "943ad0fc-140b-46a5-b8c3-2641e7a43f8a",
       "rows": [
        [
         "0",
         "kemarin gue datang ke tempat makan baru yang ada di dago atas . gue kira makanan nya enak karena harga nya mahal . ternyata , boro-boro . tidak mau lagi deh ke tempat itu . sudah mana tempat nya juga tidak nyaman banget , terlalu sempit .",
         "negative",
         "negative"
        ],
        [
         "1",
         "kayak nya sih gue tidak akan mau balik lagi ke tempat itu . gila , ya , gue enggak ngerti kenapa tempat nya dibiarkan panas . sudah begitu kotor pula . kalau panas kepanasan , kalau hujan kehujanan . harus nya sih tidak ada restoran yang kayak gitu . tidak tahu deh apa yang mereka jual .",
         "negative",
         "negative"
        ],
        [
         "2",
         "kalau dipikir-pikir , sebenarnya tidak ada yang bisa dibanggakan dari jokowi . pertama , dia tidak bisa nepatin janji . kedua , kerjaan nya selalu pencitraan . ketiga , dia tidak pro rakyat . sudahlah . ku sudah terlanjur kecewa .",
         "negative",
         "negative"
        ],
        [
         "3",
         "ini pertama kalinya gua ke bank buat ngurusin pembuatan rekening baru . nama nya juga orang pertama kali ya baru ke bank , gua kena semprot . kelihatan banget pelayanan pelanggan - nya tidak suka gua banyak bertanya . amit-amit . padahal itu kan tugas mereka buat melayangkan gua !",
         "negative",
         "negative"
        ],
        [
         "4",
         "waktu sampai dengan gue pernah disuruh ibu latihan karate . kata nya biar gue bisa melawan penjahat kalau ada laki-laki iseng , tapi di hari pertama latihan , kaki gue langsung cedera . jadilah sekarang trauma dan tidak mau sekali-sekali buat latihan karate lagi .",
         "negative",
         "negative"
        ],
        [
         "5",
         "pelayanan di hotel salak bogor tidak sebagus yang gue membayangkan . fasilitas nya juga biasa banget padahal kata nya hotel bintang lima . hm . kecewa . kayak nya sih nanti-nanti tidak mau ke sana lagi .",
         "negative",
         "negative"
        ],
        [
         "6",
         "ada apa dengan young lex ? kenapa dia harus mengirim hal-hal tidak berfaedah kayak gitu . merusak moral banget sumpah !",
         "negative",
         "negative"
        ],
        [
         "7",
         "gue pesimis sama manusia , terutama dalam ngurusin sampah . sudah berapa banyak hewan-hewan laut jadi korban gara-gara kita buang sampah ke laut . tidak tega gue liat nya . kadang tidak mengerti juga sebenarnya pemimpin-pemimpin yang ada itu pada mikirin enggak sih urusan penting kayak gini . he .",
         "negative",
         "negative"
        ],
        [
         "8",
         "saya kecewa karena pengeditan biodata penumpang dilakukan by sistem tanpa konfirmasi dan solusi permasalahan nya pun dianggap sepele karena dibiarkan begitu saja sedang pelayanan pelanggan yang sudah berkali-berkali dihubungi pun hanya seperti mengulur waktu . sampai detik ini belum ada solusi untuk masalah saya yang kesalahan nya sendiri bukan dari pihak saya .",
         "negative",
         "negative"
        ],
        [
         "9",
         "saya hari ini melakukan pemesanan dan tiket saya tidak kunjung saya terima . padahal saya sudah menelpon pelayanan pelanggan , sudah mengirimkan email dengan bukti transfer tapi respon nya sangat lambat dan tidak jelas .",
         "negative",
         "negative"
        ],
        [
         "10",
         "sangat merugikan , saya sudah memesan dan membayar tetapi e - tiket tidak ada juga , padahal bukti pembayaran sudah jelas , sudah menelepon pelayanan pelanggan berkali kali dan tidak ada solusi nya , pulsa sudah habis ratusan ribu , saya meminta kembalikan uang juga sangat lama proses nya , sangat merugikan pengguna , banyak kerugian uang transport , waktu , penginapan dll.",
         "negative",
         "negative"
        ],
        [
         "11",
         "saya itu memesan tiket dot com . sudah dibayar email belum ada balasan . bukti pembayaran sudah saya kirim by email . saya masukkan data balasan nya pemesanan kadaluarsa terus . akhirnya saya beli lagi langsung ke loket . saya minta uang kembali masih menunggu 3 - 14 hari . ambil saja uang tiket nya tidak apa-apa . sedih saya download aplikasi ini .",
         "negative",
         "negative"
        ],
        [
         "12",
         "saya sudah bayar tetapi etiket tidak dikirim malah kadaluwarsa , diminta struk pembayaran saya sudah tidak punya hanya sms banking . tetapi tetap saja tidak digubris dari pelayanan pelanggan - nya . sudah email dan telepon berkali-berkali tetap tidak ada hasil . sangat mengecewakan .",
         "negative",
         "negative"
        ],
        [
         "13",
         "saya mesan tiket tapi tidak dikonformasi dan proses pengembalian uang yang tidak jelas dan belum ada sampai sekarang , pelayanan nya yang sangat buruk dan saran saya jangan pesan di sini , sangat mengecewakan .",
         "negative",
         "negative"
        ],
        [
         "14",
         "sangat kecewa dengan aplikasi ini , sudah ditransfer tetapi etiket tidak dikirim saya coba telepon call centre seharian tetapi sibuk terus call genre nya , mending pakai traveloka adalah untuk pesanan selanjutnya .",
         "negative",
         "negative"
        ],
        [
         "15",
         "melihat komen nya 90 % negatif jadi pikir-pikir buat mencari tiket kereta di sini . mending aplikasi yang lain saja yang sudah terbukti bagus bertahun-bertahun .",
         "negative",
         "negative"
        ],
        [
         "16",
         "aplikasi tukang bohong . promo gratis makan tidak terjadi . komplain ke pelayanan pelanggan dengan email tidak ditanggapi . komplain by phone hanya dicatat saja tidak ada tindak lanjut . sangat tidak direkomendasikan untuk siapa pun .",
         "negative",
         "negative"
        ],
        [
         "17",
         "kata nya dapat promo 100 ribu . tapi setelah di bayar di atm - nya ternyata harga normal . sudah saya kirim email tapi tidak ada balasan . mengecewakan .",
         "negative",
         "negative"
        ],
        [
         "18",
         "saya sudah bayar untuk hotel tapi etiket tidak terbit , saya sudah kirim email bukti pembayaran nya tapi tetap tidak ada mengikuti naik - nya . sampai hari h mau cek - in ini . sudah menghubungi bolak balik pelayanan pelanggan sama saja ngulang-ngulang informasi dari awal . dijanjikan akan ditelpon tapi tidak dihubungi juga sampai sekarang . saya mau laporkan polisi . menyebalkan .",
         "negative",
         "negative"
        ],
        [
         "19",
         "saya kecewa karena saya sudah transfer dan belum dikonfirmasi saya telepon malah pelanggan sibuk terus , aduh kecewa nih gue .",
         "negative",
         "negative"
        ],
        [
         "20",
         "saya sudah transfer ratusan ribu dan sesuai nominal transfer . tapi tiket belum muncul juga . harus diwaspadai ini aplikasi ini . bahaya .",
         "negative",
         "negative"
        ],
        [
         "21",
         "pelayanan pelanggan tidak respon , komentar disuruh email , email saya tidak ditanggapi , sudah beberapa hari yang lalu , sampai sekarang tidak ada respon . menyusahkan saja .",
         "negative",
         "negative"
        ],
        [
         "22",
         "tolong untuk pelayana nya diperjelas ya . sudah pesan tiket sudah dibayar tetapi dengan alasan bank bermasalah dan tidak ada pertanggungjawaban untuk memulangkan uang saja harus sampai ditelpon lagi . dikirim by email untuk komponen tidak direspon . kecewa .",
         "negative",
         "negative"
        ],
        [
         "23",
         "luar biasa kecewa sangat dengan aplikasi ini , saya sudah hubungi pusat panggilan untuk cek pemesanan saya karena saya sudah bayar dan tidak muncul e - tiket nya , bahkan saya sudah kirim bukti transaksi nya ke e-mail , hingga saat ini tidak ada pihak pusat panggilan yang menghubungi , kecewa .",
         "negative",
         "negative"
        ],
        [
         "24",
         "sangat mengecewakan , saya pesan tiket dan sudah saya bayar , padahal waktu itu belum kadaluarsa pas saya transfer , tapi sampai sekarang belum dikasih kode bokong nya , malah dikasih notifikasi sudah kadaluarsa , lalu uang nya lari nya ke mana , pas saya hubungi lewat email hanya ditanggapi sekali saja .",
         "negative",
         "negative"
        ],
        [
         "25",
         "tolong jangan order tiket pakai aplikasi ini kalau tidak mau kecewa . benci banget . sudah transfer etiket tidak dikirim-kirim malah pesanan dibatalkan . telpon pelayanan pelanggan juga tidak diangkat . di-email tidak dibalas .",
         "negative",
         "negative"
        ],
        [
         "26",
         "saya pesan tiket pesawat dan sudah melakukan pembayaran sesuai instruksi namun sudah lebih dari 4 jam belum ada terbit e - tiket malahan status pesanan saya malah jadi pemesanan kadaluarsa . komplain sudah saya lakukan melalui email dan telpon pelayanan pelanggan sampai sekarang belum ada penyelesaian yang berarti . ini sangat merugikan .",
         "negative",
         "negative"
        ],
        [
         "27",
         "saya pesan ticket sampai sekarang tidak ada konformasi nya . uang sudah ditransfer , kalau seperti itu kembalikan uang nya , tai sekali , telepon pusat panggilan habis pulsa hampir 200 . tidak ada . kembalikan uang saya . jangan pernah kalian pesan tiket di sini . menyesal",
         "negative",
         "negative"
        ],
        [
         "28",
         "pembayaran sudah dilakukan tetapi e - tiket tidak dikirim-dikirim malah dipesan diblang kadaluarsa . titip cs nya berkali-berkali jwaban nya tidak ada yang membantu dan tidak sinkron semua . sampai sekarang belum jelas pengembalian uang ataupun penggantian tiket . disarankan tidak usah memakai aplikasi ini .",
         "negative",
         "negative"
        ],
        [
         "29",
         "sangat mengecewakan ! di mana kalau pesan tiket sudah dibayar sudah dikasih bukti transfer itu langsung dikasih nomor e - tiket nya . ini kok tidak ada konfirmasi apa , sudah mendekati hari h tiba pesanan kadaluarsa . pelayanan sangat buruk ! pelayanan pelanggan - nya juga tidak sopan . segera kembalikan uang pengembalian dana tiket saya !",
         "negative",
         "negative"
        ],
        [
         "30",
         "saya sudah komplain dengan berbagai cara tapi sangat tidak mengenakkan , selain lama respon tetapi juga tidak ditanggapi . saya sudah transfer uang dan sudah saya kirim tanda bukti nya tapi sampai saat ini tidak ada kejelasan sama sekali . saya merasa tertipu .",
         "negative",
         "negative"
        ],
        [
         "31",
         "saya hilang 2.5 juta dari apa ini karena , terjadi eror saat melanjutkan pembayaran yang terpending menyebabkan isi-isi data penumpang dan terjadi kesalahan flight . kecewa sekali dengan fasilitas yang ada .",
         "negative",
         "negative"
        ],
        [
         "32",
         "sudah melakukan pembayaran tetapi tiket ada , bukti transfer sudah dilampirkan ke email dengan alasan uang belum diterima , ini niat jualan apa mau mengambil uang orang ? tidak lagi-lagi beli tiket di tiket.com , sumpah asli tipu dan produk sampah",
         "negative",
         "negative"
        ],
        [
         "33",
         "saya baru saja mengalami pesan tiket lewat ini aplikasi penipu . sudah transfer uang . tapi belum ada balasan . dan tidak ada respon . jangan pernah pakai aplikasi tak nii .",
         "negative",
         "negative"
        ],
        [
         "34",
         "biasanya pesan tiket pesawat lancar-lancar saja . terakhir beli tiket kereta eksekutif untuk 6 orang sudah ditransfer sebelum waktu berakhir tetapi cek order pemesanan kadaluarsa . menyebalkan !",
         "negative",
         "negative"
        ],
        [
         "35",
         "proses pengembalian dana lama . sudah dibayar tapi kode pesan tidak dapat . pelayanan kurang , telepon ke pelayanan pelanggan pakai pulsa yang banyak . tidak mau pesan lagi di sini",
         "negative",
         "negative"
        ],
        [
         "36",
         "e - tiket belum diterima padahal uang nya sudah ditransfer . pas mau konfirmasi ke pelayanan pelanggan tidak pernah direspons , e-mail juga tidak dijawab . mantap ! bikin kecewa saja bisa nya !",
         "negative",
         "negative"
        ],
        [
         "37",
         "saya sudah berhasil transaksi sesuai nominal tagihan . dan sampai saat ini belum dapat etiket . ini pelayanan yang sangat buruk dan menjengkelkan . sudah email beberapa kali tapi tidak ada respon . pelayanan pelanggan nya yang super duper lemah otak . kalau kode pesan tidak juga dikirim . pokokanyak duit saya harus kembali .",
         "negative",
         "negative"
        ],
        [
         "38",
         "tidak bisa menggunakan kode promo di aplikasi android , telpon ke pelayanan pelanggan bilang nya tidak ada solusi nya . oke uninstall dan tidak rekomendasi !",
         "negative",
         "negative"
        ],
        [
         "39",
         "menyesal pesan tiket pesawat di tiket.com sudah di transfer dibilang transaksi kedaluarsa , pulsa habis banyak untuk telpon pelayanan pelanggan .",
         "negative",
         "negative"
        ],
        [
         "40",
         "di saat saya salah pembelian , pengembalian uang cuma 50 %, itu tidak masalah abang saya . tetapi sudah 2 bulan belum ada juga pengembalian nya , tiket.com tidak bisa dipercaya .",
         "negative",
         "negative"
        ],
        [
         "41",
         "sangat kecewa dengan pelayanan nya saya sudah transfer tapi sampai sekarang belum ada konfirmasi padahal sudah kirim bukti transfer dan sudah telpon ke cs nya .",
         "negative",
         "negative"
        ],
        [
         "42",
         "saya kecewa sama aplikasi ini padahal cek - in-nya jam 19.30 . malahan saya ketinggal pesawat . kembalikan uang saya .",
         "negative",
         "negative"
        ],
        [
         "43",
         "tiket kadaluarsa padahal sudah bayar . kacau . mengganggu waktu dan rencana saya . sistem nya tidak bagus . pelayanan pelanggan - nya tidak professional . kalau tidak mau kerja suruh jangan kerja .",
         "negative",
         "negative"
        ],
        [
         "44",
         "maaf ya saya uninstall . saya kecewa karena sudah melakukan pembayaran tetapi tidak dikonfirmasi . saya sudah komplain via email tetapi respon nya sangat lambat .",
         "negative",
         "negative"
        ],
        [
         "45",
         "serem melihat pengalaman yang sudah pesan di sini . mending uninstal saja . aplikasi abal-abal ini . mending pakai burung biru saja . jelas ...... !!",
         "negative",
         "negative"
        ],
        [
         "46",
         "minta dikembalikan karena permasalahan bencana alam tapi tidak ada respon baik dari pelanggan nya . sangat mengecewakan .",
         "negative",
         "negative"
        ],
        [
         "47",
         "aplikasi tipu . sialan . mengembalikan duit gua . gua minta prtnggungjawaban susah sekali sialan . menyebalkan .",
         "negative",
         "negative"
        ],
        [
         "48",
         "saya kemarin batalkan tiket pesawat karena salah ordrer , kami sudah minta dikembalikan dan dapat balasan baru diproses . tapi kenapa proses lama tidak seperti traveloka saat itu langsung dikembalikan , pelayanan pelanggan pun telepon nya tarif mahal . ini sudah lebih tiga hari setelah saya baca ternyata banyak pelanggan yang dibuat kecewa .",
         "negative",
         "negative"
        ],
        [
         "49",
         "tolong ya dana pengembalian dana saya ini sudah berbulan bulan saya email berkali kali tidak dibalas masalah nya ini bukan ratusan ribu atau satu dua jutaan ! sama sekali tidak bertanggung jawab dan sangat mengecewakan",
         "negative",
         "negative"
        ]
       ],
       "shape": {
        "columns": 3,
        "rows": 500
       }
      },
      "text/html": [
       "<div>\n",
       "<style scoped>\n",
       "    .dataframe tbody tr th:only-of-type {\n",
       "        vertical-align: middle;\n",
       "    }\n",
       "\n",
       "    .dataframe tbody tr th {\n",
       "        vertical-align: top;\n",
       "    }\n",
       "\n",
       "    .dataframe thead th {\n",
       "        text-align: right;\n",
       "    }\n",
       "</style>\n",
       "<table border=\"1\" class=\"dataframe\">\n",
       "  <thead>\n",
       "    <tr style=\"text-align: right;\">\n",
       "      <th></th>\n",
       "      <th>text</th>\n",
       "      <th>sentiment</th>\n",
       "      <th>label</th>\n",
       "    </tr>\n",
       "  </thead>\n",
       "  <tbody>\n",
       "    <tr>\n",
       "      <th>0</th>\n",
       "      <td>kemarin gue datang ke tempat makan baru yang a...</td>\n",
       "      <td>negative</td>\n",
       "      <td>negative</td>\n",
       "    </tr>\n",
       "    <tr>\n",
       "      <th>1</th>\n",
       "      <td>kayak nya sih gue tidak akan mau balik lagi ke...</td>\n",
       "      <td>negative</td>\n",
       "      <td>negative</td>\n",
       "    </tr>\n",
       "    <tr>\n",
       "      <th>2</th>\n",
       "      <td>kalau dipikir-pikir , sebenarnya tidak ada yan...</td>\n",
       "      <td>negative</td>\n",
       "      <td>negative</td>\n",
       "    </tr>\n",
       "    <tr>\n",
       "      <th>3</th>\n",
       "      <td>ini pertama kalinya gua ke bank buat ngurusin ...</td>\n",
       "      <td>negative</td>\n",
       "      <td>negative</td>\n",
       "    </tr>\n",
       "    <tr>\n",
       "      <th>4</th>\n",
       "      <td>waktu sampai dengan gue pernah disuruh ibu lat...</td>\n",
       "      <td>negative</td>\n",
       "      <td>negative</td>\n",
       "    </tr>\n",
       "    <tr>\n",
       "      <th>...</th>\n",
       "      <td>...</td>\n",
       "      <td>...</td>\n",
       "      <td>...</td>\n",
       "    </tr>\n",
       "    <tr>\n",
       "      <th>495</th>\n",
       "      <td>kata nya tidur yang baik itu minimal enam jam ...</td>\n",
       "      <td>neutral</td>\n",
       "      <td>neutral</td>\n",
       "    </tr>\n",
       "    <tr>\n",
       "      <th>496</th>\n",
       "      <td>indonesia itu ada di benua asia .</td>\n",
       "      <td>neutral</td>\n",
       "      <td>neutral</td>\n",
       "    </tr>\n",
       "    <tr>\n",
       "      <th>497</th>\n",
       "      <td>salah satu kegemaran anak remaja indonesia sek...</td>\n",
       "      <td>neutral</td>\n",
       "      <td>neutral</td>\n",
       "    </tr>\n",
       "    <tr>\n",
       "      <th>498</th>\n",
       "      <td>melihat warna hijau bisa bikin mata jadi lebih...</td>\n",
       "      <td>positive</td>\n",
       "      <td>positive</td>\n",
       "    </tr>\n",
       "    <tr>\n",
       "      <th>499</th>\n",
       "      <td>bondan winarno yang suka bilang maknyus sekara...</td>\n",
       "      <td>neutral</td>\n",
       "      <td>positive</td>\n",
       "    </tr>\n",
       "  </tbody>\n",
       "</table>\n",
       "<p>500 rows × 3 columns</p>\n",
       "</div>"
      ],
      "text/plain": [
       "                                                  text sentiment     label\n",
       "0    kemarin gue datang ke tempat makan baru yang a...  negative  negative\n",
       "1    kayak nya sih gue tidak akan mau balik lagi ke...  negative  negative\n",
       "2    kalau dipikir-pikir , sebenarnya tidak ada yan...  negative  negative\n",
       "3    ini pertama kalinya gua ke bank buat ngurusin ...  negative  negative\n",
       "4    waktu sampai dengan gue pernah disuruh ibu lat...  negative  negative\n",
       "..                                                 ...       ...       ...\n",
       "495  kata nya tidur yang baik itu minimal enam jam ...   neutral   neutral\n",
       "496                  indonesia itu ada di benua asia .   neutral   neutral\n",
       "497  salah satu kegemaran anak remaja indonesia sek...   neutral   neutral\n",
       "498  melihat warna hijau bisa bikin mata jadi lebih...  positive  positive\n",
       "499  bondan winarno yang suka bilang maknyus sekara...   neutral  positive\n",
       "\n",
       "[500 rows x 3 columns]"
      ]
     },
     "execution_count": 29,
     "metadata": {},
     "output_type": "execute_result"
    }
   ],
   "source": [
    "combined_test_df"
   ]
  },
  {
   "cell_type": "code",
   "execution_count": 30,
   "id": "c626f6fb",
   "metadata": {},
   "outputs": [
    {
     "data": {
      "text/plain": [
       "<torch.autograd.grad_mode.set_grad_enabled at 0x7f4b3bd3ffb0>"
      ]
     },
     "execution_count": 30,
     "metadata": {},
     "output_type": "execute_result"
    }
   ],
   "source": [
    "model.load_state_dict(torch.load(\"../backend/model/smsa-model.pt\", map_location='cpu'))\n",
    "model.eval()\n",
    "torch.set_grad_enabled(False)"
   ]
  },
  {
   "cell_type": "code",
   "execution_count": 31,
   "id": "66c91be1",
   "metadata": {},
   "outputs": [
    {
     "name": "stdout",
     "output_type": "stream",
     "text": [
      "Text: bagus banget fotonya itu | Label : positive (99.888%)\n"
     ]
    }
   ],
   "source": [
    "text = 'bagus banget fotonya itu'\n",
    "subwords = tokenizer.encode(text)\n",
    "subwords = torch.LongTensor(subwords).view(1, -1).to(model.device)\n",
    "\n",
    "logits = model(subwords)[0]\n",
    "label = torch.topk(logits, k=1, dim=-1)[1].squeeze().item()\n",
    "\n",
    "print(f'Text: {text} | Label : {i2w[label]} ({F.softmax(logits, dim=-1).squeeze()[label] * 100:.3f}%)')"
   ]
  },
  {
   "cell_type": "code",
   "execution_count": 32,
   "id": "a5e5cf51",
   "metadata": {},
   "outputs": [
    {
     "name": "stdout",
     "output_type": "stream",
     "text": [
      "Text: pagi tadi pergi ke BLI | Label : neutral (99.787%)\n"
     ]
    }
   ],
   "source": [
    "text = 'pagi tadi pergi ke BLI'\n",
    "subwords = tokenizer.encode(text)\n",
    "subwords = torch.LongTensor(subwords).view(1, -1).to(model.device)\n",
    "\n",
    "logits = model(subwords)[0]\n",
    "label = torch.topk(logits, k=1, dim=-1)[1].squeeze().item()\n",
    "\n",
    "print(f'Text: {text} | Label : {i2w[label]} ({F.softmax(logits, dim=-1).squeeze()[label] * 100:.3f}%)')"
   ]
  },
  {
   "cell_type": "code",
   "execution_count": 33,
   "id": "9ba33b59",
   "metadata": {},
   "outputs": [
    {
     "name": "stdout",
     "output_type": "stream",
     "text": [
      "Text: Dasar anak sialan!! Kurang ajar!! | Label : negative (99.885%)\n"
     ]
    }
   ],
   "source": [
    "text = 'Dasar anak sialan!! Kurang ajar!!'\n",
    "subwords = tokenizer.encode(text)\n",
    "subwords = torch.LongTensor(subwords).view(1, -1).to(model.device)\n",
    "\n",
    "logits = model(subwords)[0]\n",
    "label = torch.topk(logits, k=1, dim=-1)[1].squeeze().item()\n",
    "\n",
    "print(f'Text: {text} | Label : {i2w[label]} ({F.softmax(logits, dim=-1).squeeze()[label] * 100:.3f}%)')"
   ]
  },
  {
   "cell_type": "markdown",
   "id": "7a54d687",
   "metadata": {},
   "source": [
    "### Prepare Lazada's reviews dataset"
   ]
  },
  {
   "cell_type": "code",
   "execution_count": null,
   "id": "ea0aea07",
   "metadata": {},
   "outputs": [],
   "source": [
    "# Testing with Lazada Indonesian Reviews\n",
    "lazada_reviews_path = '../data/lazada_reviews/lazada-reviews-without-sentiment.csv'\n",
    "\n",
    "# Remove unused columns and remove missing values\n",
    "lazada_df = pd.read_csv(lazada_reviews_path, header=None, low_memory=False)\n",
    "lazada_df.columns = lazada_df.iloc[0]\n",
    "lazada_df = lazada_df[1:]\n",
    "lazada_df = lazada_df.reset_index(drop=True)\n",
    "lazada_df = lazada_df[['reviewContent']].rename(columns={'reviewContent': 'text'})\n",
    "lazada_df = lazada_df.dropna()\n",
    "lazada_df['sentiment'] = 'isi ini ya ges (positive/neutral/negative)'\n",
    "\n",
    "sample_df = lazada_df.sample(n=11000, random_state=42).reset_index(drop=True)\n",
    "sample_df.to_csv('../data/lazada_reviews/train-lazada.csv')"
   ]
  },
  {
   "cell_type": "code",
   "execution_count": null,
   "id": "10aead48",
   "metadata": {},
   "outputs": [],
   "source": [
    "remaining_df = lazada_df[~lazada_df['text'].isin(sample_df['text'])]\n",
    "\n",
    "test_df = remaining_df.sample(n=500, random_state=99).reset_index(drop=True)\n",
    "test_df.to_csv('../data/lazada_reviews/test-lazada.csv')"
   ]
  },
  {
   "cell_type": "code",
   "execution_count": null,
   "id": "dc00d3b1",
   "metadata": {},
   "outputs": [],
   "source": [
    "used_texts = set(sample_df['text']) | set(test_df['text'])\n",
    "\n",
    "new_remaining_df = lazada_df[~lazada_df['text'].isin(used_texts)]\n",
    "\n",
    "valid_df = remaining_df.sample(n=1260, random_state=123).reset_index(drop=True)\n",
    "valid_df.to_csv('../data/lazada_reviews/valid-lazada.csv')\n",
    "\n",
    "valid_df"
   ]
  },
  {
   "cell_type": "code",
   "execution_count": 36,
   "id": "a7e5b6c3",
   "metadata": {},
   "outputs": [],
   "source": [
    "lazada_train_dataset_path = '../data/lazada_reviews/train-lazada.csv'\n",
    "lazada_valid_dataset_path = '../data/lazada_reviews/valid-lazada.csv'\n",
    "lazada_test_dataset_path = '../data/lazada_reviews/test-lazada.csv'\n",
    "# lazada_test_labeling_path = '../data/smsa/test.csv'"
   ]
  },
  {
   "cell_type": "code",
   "execution_count": 53,
   "id": "75f335e2",
   "metadata": {},
   "outputs": [],
   "source": [
    "def load_dataset_csv(path):\n",
    "    df = pd.read_csv(path, header=0)\n",
    "    # df.columns = ['text', 'sentiment']\n",
    "    df['sentiment'] = 'neutral'\n",
    "    df['sentiment'] = df['sentiment'].apply(lambda lab: LABEL2INDEX[lab])\n",
    "    return df\n",
    "\n",
    "def load_dataset_empty(path):\n",
    "    df = pd.read_csv(path)\n",
    "    df['sentiment'] = 'neutral'\n",
    "    return df"
   ]
  },
  {
   "cell_type": "code",
   "execution_count": 54,
   "id": "7a1acb9a",
   "metadata": {},
   "outputs": [],
   "source": [
    "lazada_train_df = load_dataset_csv(lazada_train_dataset_path)\n",
    "lazada_valid_df = load_dataset_csv(lazada_valid_dataset_path)\n",
    "lazada_test_df  = load_dataset_csv(lazada_test_dataset_path)\n",
    "# test_label_df = load_dataset(lazada_test_labeling_path)\n",
    "\n",
    "lazada_train_encoded = encode_dataset(lazada_train_df, tokenizer)\n",
    "lazada_valid_encoded = encode_dataset(lazada_valid_df, tokenizer)\n",
    "lazada_test_encoded  = encode_dataset(lazada_test_df, tokenizer)\n",
    "# lazada_test_label_encoded = encode_dataset(lazada_test_label_df, tokenizer)"
   ]
  },
  {
   "cell_type": "code",
   "execution_count": 67,
   "id": "6943894e",
   "metadata": {},
   "outputs": [
    {
     "data": {
      "application/vnd.microsoft.datawrangler.viewer.v0+json": {
       "columns": [
        {
         "name": "index",
         "rawType": "int64",
         "type": "integer"
        },
        {
         "name": "Unnamed: 0",
         "rawType": "int64",
         "type": "integer"
        },
        {
         "name": "text",
         "rawType": "object",
         "type": "string"
        },
        {
         "name": "sentiment",
         "rawType": "int64",
         "type": "integer"
        }
       ],
       "ref": "ffebeac5-6668-470c-83e1-e600bbab975b",
       "rows": [
        [
         "0",
         "0",
         "barang diterima dlm keadaan kypet tidak berfungsi, barang cepat sampai. jujur kecewa karna barang yg di terima dlm keadaan kypet tidak berfungsi. lain kali barangnya boleh d cek kembali ya sebelum di kirim.",
         "1"
        ],
        [
         "1",
         "1",
         "kualitas fungsi barang oke",
         "1"
        ],
        [
         "2",
         "2",
         "SESUAI PESANAN",
         "1"
        ],
        [
         "3",
         "3",
         "pengiriman lama sekali dioper2 oleh ninja expressnya. semoga awet aja nih",
         "1"
        ],
        [
         "4",
         "4",
         "Barang bagus. Original dengan harga miring. Thx Lazada.",
         "1"
        ],
        [
         "5",
         "5",
         "Barang sudh smpai dengan aman.. packingannya rapi...thankiuuu bonus nyaa..",
         "1"
        ],
        [
         "6",
         "6",
         "Alhamdulillah barang sudah nyampai dengan selamat, packingnya bagus, barang original sesuai gambar..  terimakasih lazada.",
         "1"
        ],
        [
         "7",
         "7",
         "pengiriman responsif, packing rapi, barang sesuai pesanan.. good job.",
         "1"
        ],
        [
         "8",
         "8",
         "makasih kak , barangnya sampai dengan cepatt 👍",
         "1"
        ],
        [
         "9",
         "9",
         "barang diterima dalam kondisi baik,hanya sedikit bibgung,untuk pengiriman kartu garansinya.mohon petunjuk",
         "1"
        ],
        [
         "10",
         "10",
         "bagus, tahan dan kuat.",
         "1"
        ],
        [
         "11",
         "11",
         "Sayang datangnya lama..rencana mau buat hadiah ulang tahun anak saya..tapi datangnya malah setelah lewat tanggal...tapi anak saya tetep seneng sih...sekarang dia bisa main game kesenangan dengan ekstra detail, biar jadi gamer aja..jangan jadi koruptor",
         "1"
        ],
        [
         "12",
         "12",
         "standard saja kuaitasnya",
         "1"
        ],
        [
         "13",
         "13",
         "Tombol google assistant munculnya bluetooth mulu menelusuri aksesories, tolong segera dibantu gmn cara aktifkan fungsi tombol tersebut, kl tidak bisa saya mau retur aja",
         "1"
        ],
        [
         "14",
         "14",
         "alhamdulillah , sampai jateng dengan selamat 🙏🏻",
         "1"
        ],
        [
         "15",
         "15",
         "Barang sudah sampai. Maaf baru kasih review. Manteb deh pokoknya..",
         "1"
        ],
        [
         "16",
         "16",
         "terimakasih pesenan nya udah nyampe,,,order tgl 21  jam 11brng sampai tgl 23 jam 4 sore barang nya mulus, suaranya bagus,, pkok nya trimakasih  hee",
         "1"
        ],
        [
         "17",
         "17",
         "Kern barang original  lumayan dapat barang mewah tapi mura cepet baget sampnya order kemaren skrang udah di tanga cius super cepet",
         "1"
        ],
        [
         "18",
         "18",
         "pengiriman cepat dan responsif.barang belum dicoba, moga awet, thanks lazada...",
         "1"
        ],
        [
         "19",
         "19",
         "Kecewa, flashdiskny ga bisa diformat ke NTFS + copy file gede corrupt, mw jdiin bootable windows eh detect ny bkn 32gb malah jadi 33gb -_- abal nih fd kekny...",
         "1"
        ],
        [
         "20",
         "20",
         "tv y bagus. semoga awet",
         "1"
        ],
        [
         "21",
         "21",
         "parah pokoknya parah. nyampe nya mah cepet. pas di buka ga ada CD nya. BATERAI DROP. pas di pake harus sambil di charger. Udah berkali kali belanja di lazada baru kali ini beli di kecewakan. return secepatnya.",
         "1"
        ],
        [
         "22",
         "22",
         "Terimakasih kak barangnya cepat nyampeknya Barangnya bagus dengan harga murah tapi ngak murahan",
         "1"
        ],
        [
         "23",
         "23",
         "mantap tv nya tes",
         "1"
        ],
        [
         "24",
         "24",
         "MANTUL",
         "1"
        ],
        [
         "25",
         "25",
         "Minusnya pengiriman cukup lambat, maklum sih karena engga pake JNE, padahal udah dikenakan ongkir. Over all puas dengan barangnya, mini tapi performa cukup lah buat anak sekolah. Meski fanless, tapi ga panas. Audio juga mantap.",
         "1"
        ],
        [
         "26",
         "26",
         "trimakasih... barang bagus berfungsi moga awet yah...",
         "1"
        ],
        [
         "27",
         "27",
         "barang datang sesuai pesanan, langsung tak coba bisa.",
         "1"
        ],
        [
         "28",
         "28",
         "pengiriman terlalu lama",
         "1"
        ],
        [
         "29",
         "29",
         "Bagus.  Barang sesuai pesanan.",
         "1"
        ],
        [
         "30",
         "30",
         "Barang ok...pokoknya recommended.....",
         "1"
        ],
        [
         "31",
         "31",
         "mantap tanggung jawab juga sellernya",
         "1"
        ],
        [
         "32",
         "32",
         "barang bagus, gambar jernih, pengiriman cepat dan aman",
         "1"
        ],
        [
         "33",
         "33",
         "kualitas bagus sesuai diskripsi. semua berfungsi lancar. mudah-mudahan tv nya awet. pengiriman juga cepat",
         "1"
        ],
        [
         "34",
         "34",
         "bagus brangnya",
         "1"
        ],
        [
         "35",
         "35",
         "packing pakai palet dan dibungkus plastik jadi aman hasilnya tidak pecah atau lecet. sudah pasang dan pakai tidak ada masalah di hari pertama semoga aman terus tidak rusak",
         "1"
        ],
        [
         "36",
         "36",
         "barang ok, garansi resmi, tidak cacat. cm pengiriman lama bgt. pesen dr tgl 24 baru sampe tgl 2 feb pdhl estimasinya tgk 25/26 sdh sampai. itu pun harus komplen dlu ke e-chat lazadanya. tp enak nya bs COD jd ga perlu takut tipu2",
         "1"
        ],
        [
         "37",
         "37",
         "worth it buat di beli. ukuran kompak kapasitas besar.. packing jg aman.. sayang lupa di foto. hardisknya sdh disimpan di kantor",
         "1"
        ],
        [
         "38",
         "38",
         "Kemaren  sy udah kasih bintang 5.  Stlah sy coba pake 2 hari laptopnya uda berat/lelet, hr ini sy mau coba instl officenya dak bisa krn udah lelet duluan, dak bs nyelesaikan smpai sore dak slsai2 pasang office.  Mhn solusi dari seller......?",
         "1"
        ],
        [
         "39",
         "39",
         "pengiriman cepat, pesan tgl 28.... tgl 29 sudah sampai barangnya.... tks lazada...",
         "1"
        ],
        [
         "40",
         "40",
         "packingnya berbahaya, tanpa packing kayu, cuma di lapisi buble wrap🤦‍♂️",
         "1"
        ],
        [
         "41",
         "41",
         "Barang sudah tiba bosku .sesuai ke inginan saya jam 1 tiba ..terimakasih buat kurirnya .  Karna masih di pabrik jadi belum saya coba ..next time pasti order kembali",
         "1"
        ],
        [
         "42",
         "42",
         "produk sesuai dengan deskripsi... berfungsi semua nya dengan baik ..pengiriman cepat thx",
         "1"
        ],
        [
         "43",
         "43",
         "Jayyid",
         "1"
        ],
        [
         "44",
         "44",
         "Barang sudah sampai. Packing rapi dan aman. Terimakasih.",
         "1"
        ],
        [
         "45",
         "45",
         "Pesan Asus X541D, yang datang Asus X540NA",
         "1"
        ],
        [
         "46",
         "46",
         "packing rapih .. pengiriman juga cepat .. semoga awet .. thanks lazada",
         "1"
        ],
        [
         "47",
         "47",
         "berfungsi dngan baik,,trma kasih",
         "1"
        ],
        [
         "48",
         "48",
         "Sesuai pesanan",
         "1"
        ],
        [
         "49",
         "49",
         "Barang sesuai mantab",
         "1"
        ]
       ],
       "shape": {
        "columns": 3,
        "rows": 500
       }
      },
      "text/html": [
       "<div>\n",
       "<style scoped>\n",
       "    .dataframe tbody tr th:only-of-type {\n",
       "        vertical-align: middle;\n",
       "    }\n",
       "\n",
       "    .dataframe tbody tr th {\n",
       "        vertical-align: top;\n",
       "    }\n",
       "\n",
       "    .dataframe thead th {\n",
       "        text-align: right;\n",
       "    }\n",
       "</style>\n",
       "<table border=\"1\" class=\"dataframe\">\n",
       "  <thead>\n",
       "    <tr style=\"text-align: right;\">\n",
       "      <th></th>\n",
       "      <th>Unnamed: 0</th>\n",
       "      <th>text</th>\n",
       "      <th>sentiment</th>\n",
       "    </tr>\n",
       "  </thead>\n",
       "  <tbody>\n",
       "    <tr>\n",
       "      <th>0</th>\n",
       "      <td>0</td>\n",
       "      <td>barang diterima dlm keadaan kypet tidak berfun...</td>\n",
       "      <td>1</td>\n",
       "    </tr>\n",
       "    <tr>\n",
       "      <th>1</th>\n",
       "      <td>1</td>\n",
       "      <td>kualitas fungsi barang oke</td>\n",
       "      <td>1</td>\n",
       "    </tr>\n",
       "    <tr>\n",
       "      <th>2</th>\n",
       "      <td>2</td>\n",
       "      <td>SESUAI PESANAN</td>\n",
       "      <td>1</td>\n",
       "    </tr>\n",
       "    <tr>\n",
       "      <th>3</th>\n",
       "      <td>3</td>\n",
       "      <td>pengiriman lama sekali dioper2 oleh ninja expr...</td>\n",
       "      <td>1</td>\n",
       "    </tr>\n",
       "    <tr>\n",
       "      <th>4</th>\n",
       "      <td>4</td>\n",
       "      <td>Barang bagus. Original dengan harga miring. Th...</td>\n",
       "      <td>1</td>\n",
       "    </tr>\n",
       "    <tr>\n",
       "      <th>...</th>\n",
       "      <td>...</td>\n",
       "      <td>...</td>\n",
       "      <td>...</td>\n",
       "    </tr>\n",
       "    <tr>\n",
       "      <th>495</th>\n",
       "      <td>495</td>\n",
       "      <td>awal nya sih senang uda datang hardisk ini, eh...</td>\n",
       "      <td>1</td>\n",
       "    </tr>\n",
       "    <tr>\n",
       "      <th>496</th>\n",
       "      <td>496</td>\n",
       "      <td>mantuuuuuuuuul beli 3biji pecah satu.. tapi ko...</td>\n",
       "      <td>1</td>\n",
       "    </tr>\n",
       "    <tr>\n",
       "      <th>497</th>\n",
       "      <td>497</td>\n",
       "      <td>oke banget...thx</td>\n",
       "      <td>1</td>\n",
       "    </tr>\n",
       "    <tr>\n",
       "      <th>498</th>\n",
       "      <td>498</td>\n",
       "      <td>Polytron dari dulu terkenal bagus dalam produk...</td>\n",
       "      <td>1</td>\n",
       "    </tr>\n",
       "    <tr>\n",
       "      <th>499</th>\n",
       "      <td>499</td>\n",
       "      <td>top markotop, pengganti kala memo penuh.</td>\n",
       "      <td>1</td>\n",
       "    </tr>\n",
       "  </tbody>\n",
       "</table>\n",
       "<p>500 rows × 3 columns</p>\n",
       "</div>"
      ],
      "text/plain": [
       "     Unnamed: 0                                               text  sentiment\n",
       "0             0  barang diterima dlm keadaan kypet tidak berfun...          1\n",
       "1             1                         kualitas fungsi barang oke          1\n",
       "2             2                                     SESUAI PESANAN          1\n",
       "3             3  pengiriman lama sekali dioper2 oleh ninja expr...          1\n",
       "4             4  Barang bagus. Original dengan harga miring. Th...          1\n",
       "..          ...                                                ...        ...\n",
       "495         495  awal nya sih senang uda datang hardisk ini, eh...          1\n",
       "496         496  mantuuuuuuuuul beli 3biji pecah satu.. tapi ko...          1\n",
       "497         497                                   oke banget...thx          1\n",
       "498         498  Polytron dari dulu terkenal bagus dalam produk...          1\n",
       "499         499           top markotop, pengganti kala memo penuh.          1\n",
       "\n",
       "[500 rows x 3 columns]"
      ]
     },
     "execution_count": 67,
     "metadata": {},
     "output_type": "execute_result"
    }
   ],
   "source": [
    "lazada_test_df"
   ]
  },
  {
   "cell_type": "code",
   "execution_count": 56,
   "id": "89a6638d",
   "metadata": {},
   "outputs": [],
   "source": [
    "lazada_train_label_loader = DataLoader(\n",
    "    lazada_train_encoded, batch_size=32, shuffle=False, num_workers=8,\n",
    "    collate_fn=lambda x: collate_fn(x, max_seq_len=512)\n",
    ")\n",
    "\n",
    "lazada_valid_label_loader = DataLoader(\n",
    "    lazada_valid_encoded, batch_size=32, shuffle=False, num_workers=8,\n",
    "    collate_fn=lambda x: collate_fn(x, max_seq_len=512)\n",
    ")\n",
    "\n",
    "lazada_test_label_loader = DataLoader(\n",
    "    lazada_test_encoded, batch_size=32, shuffle=False, num_workers=8,\n",
    "    collate_fn=lambda x: collate_fn(x, max_seq_len=512)\n",
    ")"
   ]
  },
  {
   "cell_type": "code",
   "execution_count": null,
   "id": "cb4c900e",
   "metadata": {},
   "outputs": [
    {
     "name": "stderr",
     "output_type": "stream",
     "text": [
      "100%|██████████| 16/16 [00:43<00:00,  2.71s/it]\n"
     ]
    }
   ],
   "source": [
    "# Test Lazada's\n",
    "# Labeling data\n",
    "model.load_state_dict(torch.load(\"../backend/model/smsa-model.pt\", map_location='cpu'))\n",
    "model.eval()\n",
    "torch.set_grad_enabled(False)\n",
    "\n",
    "total_loss, total_correct, total_labels = 0, 0, 0\n",
    "list_hyp, list_label, list_text = [], [], []\n",
    "\n",
    "pbar = tqdm(lazada_test_label_loader, leave=True, total=len(lazada_test_label_loader))\n",
    "for i, batch_data in enumerate(pbar):\n",
    "    _, batch_hyp, batch_label = forward_sequence_classification(model, batch_data[:-1], i2w=i2w, device='cpu')\n",
    "    list_hyp += batch_hyp\n",
    "\n",
    "# Save prediction\n",
    "df = pd.DataFrame({'text':lazada_test_df['text'], 'label':list_hyp}).reset_index()\n",
    "df.to_csv('../data/output/lazada-test.csv', index=False)"
   ]
  },
  {
   "cell_type": "code",
   "execution_count": 69,
   "id": "4d5073a0",
   "metadata": {},
   "outputs": [
    {
     "data": {
      "application/vnd.microsoft.datawrangler.viewer.v0+json": {
       "columns": [
        {
         "name": "index",
         "rawType": "int64",
         "type": "integer"
        },
        {
         "name": "index",
         "rawType": "int64",
         "type": "integer"
        },
        {
         "name": "text",
         "rawType": "object",
         "type": "string"
        },
        {
         "name": "label",
         "rawType": "object",
         "type": "string"
        }
       ],
       "ref": "eb63d248-72d9-417d-a983-0e6d5c769d00",
       "rows": [
        [
         "0",
         "0",
         "barang diterima dlm keadaan kypet tidak berfungsi, barang cepat sampai. jujur kecewa karna barang yg di terima dlm keadaan kypet tidak berfungsi. lain kali barangnya boleh d cek kembali ya sebelum di kirim.",
         "negative"
        ],
        [
         "1",
         "1",
         "kualitas fungsi barang oke",
         "positive"
        ],
        [
         "2",
         "2",
         "SESUAI PESANAN",
         "positive"
        ],
        [
         "3",
         "3",
         "pengiriman lama sekali dioper2 oleh ninja expressnya. semoga awet aja nih",
         "negative"
        ],
        [
         "4",
         "4",
         "Barang bagus. Original dengan harga miring. Thx Lazada.",
         "positive"
        ],
        [
         "5",
         "5",
         "Barang sudh smpai dengan aman.. packingannya rapi...thankiuuu bonus nyaa..",
         "positive"
        ],
        [
         "6",
         "6",
         "Alhamdulillah barang sudah nyampai dengan selamat, packingnya bagus, barang original sesuai gambar..  terimakasih lazada.",
         "positive"
        ],
        [
         "7",
         "7",
         "pengiriman responsif, packing rapi, barang sesuai pesanan.. good job.",
         "positive"
        ],
        [
         "8",
         "8",
         "makasih kak , barangnya sampai dengan cepatt 👍",
         "positive"
        ],
        [
         "9",
         "9",
         "barang diterima dalam kondisi baik,hanya sedikit bibgung,untuk pengiriman kartu garansinya.mohon petunjuk",
         "neutral"
        ],
        [
         "10",
         "10",
         "bagus, tahan dan kuat.",
         "positive"
        ],
        [
         "11",
         "11",
         "Sayang datangnya lama..rencana mau buat hadiah ulang tahun anak saya..tapi datangnya malah setelah lewat tanggal...tapi anak saya tetep seneng sih...sekarang dia bisa main game kesenangan dengan ekstra detail, biar jadi gamer aja..jangan jadi koruptor",
         "positive"
        ],
        [
         "12",
         "12",
         "standard saja kuaitasnya",
         "negative"
        ],
        [
         "13",
         "13",
         "Tombol google assistant munculnya bluetooth mulu menelusuri aksesories, tolong segera dibantu gmn cara aktifkan fungsi tombol tersebut, kl tidak bisa saya mau retur aja",
         "neutral"
        ],
        [
         "14",
         "14",
         "alhamdulillah , sampai jateng dengan selamat 🙏🏻",
         "positive"
        ],
        [
         "15",
         "15",
         "Barang sudah sampai. Maaf baru kasih review. Manteb deh pokoknya..",
         "positive"
        ],
        [
         "16",
         "16",
         "terimakasih pesenan nya udah nyampe,,,order tgl 21  jam 11brng sampai tgl 23 jam 4 sore barang nya mulus, suaranya bagus,, pkok nya trimakasih  hee",
         "positive"
        ],
        [
         "17",
         "17",
         "Kern barang original  lumayan dapat barang mewah tapi mura cepet baget sampnya order kemaren skrang udah di tanga cius super cepet",
         "positive"
        ],
        [
         "18",
         "18",
         "pengiriman cepat dan responsif.barang belum dicoba, moga awet, thanks lazada...",
         "positive"
        ],
        [
         "19",
         "19",
         "Kecewa, flashdiskny ga bisa diformat ke NTFS + copy file gede corrupt, mw jdiin bootable windows eh detect ny bkn 32gb malah jadi 33gb -_- abal nih fd kekny...",
         "negative"
        ],
        [
         "20",
         "20",
         "tv y bagus. semoga awet",
         "positive"
        ],
        [
         "21",
         "21",
         "parah pokoknya parah. nyampe nya mah cepet. pas di buka ga ada CD nya. BATERAI DROP. pas di pake harus sambil di charger. Udah berkali kali belanja di lazada baru kali ini beli di kecewakan. return secepatnya.",
         "negative"
        ],
        [
         "22",
         "22",
         "Terimakasih kak barangnya cepat nyampeknya Barangnya bagus dengan harga murah tapi ngak murahan",
         "positive"
        ],
        [
         "23",
         "23",
         "mantap tv nya tes",
         "positive"
        ],
        [
         "24",
         "24",
         "MANTUL",
         "positive"
        ],
        [
         "25",
         "25",
         "Minusnya pengiriman cukup lambat, maklum sih karena engga pake JNE, padahal udah dikenakan ongkir. Over all puas dengan barangnya, mini tapi performa cukup lah buat anak sekolah. Meski fanless, tapi ga panas. Audio juga mantap.",
         "positive"
        ],
        [
         "26",
         "26",
         "trimakasih... barang bagus berfungsi moga awet yah...",
         "positive"
        ],
        [
         "27",
         "27",
         "barang datang sesuai pesanan, langsung tak coba bisa.",
         "neutral"
        ],
        [
         "28",
         "28",
         "pengiriman terlalu lama",
         "negative"
        ],
        [
         "29",
         "29",
         "Bagus.  Barang sesuai pesanan.",
         "positive"
        ],
        [
         "30",
         "30",
         "Barang ok...pokoknya recommended.....",
         "positive"
        ],
        [
         "31",
         "31",
         "mantap tanggung jawab juga sellernya",
         "positive"
        ],
        [
         "32",
         "32",
         "barang bagus, gambar jernih, pengiriman cepat dan aman",
         "positive"
        ],
        [
         "33",
         "33",
         "kualitas bagus sesuai diskripsi. semua berfungsi lancar. mudah-mudahan tv nya awet. pengiriman juga cepat",
         "positive"
        ],
        [
         "34",
         "34",
         "bagus brangnya",
         "positive"
        ],
        [
         "35",
         "35",
         "packing pakai palet dan dibungkus plastik jadi aman hasilnya tidak pecah atau lecet. sudah pasang dan pakai tidak ada masalah di hari pertama semoga aman terus tidak rusak",
         "positive"
        ],
        [
         "36",
         "36",
         "barang ok, garansi resmi, tidak cacat. cm pengiriman lama bgt. pesen dr tgl 24 baru sampe tgl 2 feb pdhl estimasinya tgk 25/26 sdh sampai. itu pun harus komplen dlu ke e-chat lazadanya. tp enak nya bs COD jd ga perlu takut tipu2",
         "positive"
        ],
        [
         "37",
         "37",
         "worth it buat di beli. ukuran kompak kapasitas besar.. packing jg aman.. sayang lupa di foto. hardisknya sdh disimpan di kantor",
         "positive"
        ],
        [
         "38",
         "38",
         "Kemaren  sy udah kasih bintang 5.  Stlah sy coba pake 2 hari laptopnya uda berat/lelet, hr ini sy mau coba instl officenya dak bisa krn udah lelet duluan, dak bs nyelesaikan smpai sore dak slsai2 pasang office.  Mhn solusi dari seller......?",
         "neutral"
        ],
        [
         "39",
         "39",
         "pengiriman cepat, pesan tgl 28.... tgl 29 sudah sampai barangnya.... tks lazada...",
         "neutral"
        ],
        [
         "40",
         "40",
         "packingnya berbahaya, tanpa packing kayu, cuma di lapisi buble wrap🤦‍♂️",
         "negative"
        ],
        [
         "41",
         "41",
         "Barang sudah tiba bosku .sesuai ke inginan saya jam 1 tiba ..terimakasih buat kurirnya .  Karna masih di pabrik jadi belum saya coba ..next time pasti order kembali",
         "positive"
        ],
        [
         "42",
         "42",
         "produk sesuai dengan deskripsi... berfungsi semua nya dengan baik ..pengiriman cepat thx",
         "positive"
        ],
        [
         "43",
         "43",
         "Jayyid",
         "positive"
        ],
        [
         "44",
         "44",
         "Barang sudah sampai. Packing rapi dan aman. Terimakasih.",
         "positive"
        ],
        [
         "45",
         "45",
         "Pesan Asus X541D, yang datang Asus X540NA",
         "neutral"
        ],
        [
         "46",
         "46",
         "packing rapih .. pengiriman juga cepat .. semoga awet .. thanks lazada",
         "positive"
        ],
        [
         "47",
         "47",
         "berfungsi dngan baik,,trma kasih",
         "positive"
        ],
        [
         "48",
         "48",
         "Sesuai pesanan",
         "positive"
        ],
        [
         "49",
         "49",
         "Barang sesuai mantab",
         "positive"
        ]
       ],
       "shape": {
        "columns": 3,
        "rows": 500
       }
      },
      "text/html": [
       "<div>\n",
       "<style scoped>\n",
       "    .dataframe tbody tr th:only-of-type {\n",
       "        vertical-align: middle;\n",
       "    }\n",
       "\n",
       "    .dataframe tbody tr th {\n",
       "        vertical-align: top;\n",
       "    }\n",
       "\n",
       "    .dataframe thead th {\n",
       "        text-align: right;\n",
       "    }\n",
       "</style>\n",
       "<table border=\"1\" class=\"dataframe\">\n",
       "  <thead>\n",
       "    <tr style=\"text-align: right;\">\n",
       "      <th></th>\n",
       "      <th>index</th>\n",
       "      <th>text</th>\n",
       "      <th>label</th>\n",
       "    </tr>\n",
       "  </thead>\n",
       "  <tbody>\n",
       "    <tr>\n",
       "      <th>0</th>\n",
       "      <td>0</td>\n",
       "      <td>barang diterima dlm keadaan kypet tidak berfun...</td>\n",
       "      <td>negative</td>\n",
       "    </tr>\n",
       "    <tr>\n",
       "      <th>1</th>\n",
       "      <td>1</td>\n",
       "      <td>kualitas fungsi barang oke</td>\n",
       "      <td>positive</td>\n",
       "    </tr>\n",
       "    <tr>\n",
       "      <th>2</th>\n",
       "      <td>2</td>\n",
       "      <td>SESUAI PESANAN</td>\n",
       "      <td>positive</td>\n",
       "    </tr>\n",
       "    <tr>\n",
       "      <th>3</th>\n",
       "      <td>3</td>\n",
       "      <td>pengiriman lama sekali dioper2 oleh ninja expr...</td>\n",
       "      <td>negative</td>\n",
       "    </tr>\n",
       "    <tr>\n",
       "      <th>4</th>\n",
       "      <td>4</td>\n",
       "      <td>Barang bagus. Original dengan harga miring. Th...</td>\n",
       "      <td>positive</td>\n",
       "    </tr>\n",
       "    <tr>\n",
       "      <th>...</th>\n",
       "      <td>...</td>\n",
       "      <td>...</td>\n",
       "      <td>...</td>\n",
       "    </tr>\n",
       "    <tr>\n",
       "      <th>495</th>\n",
       "      <td>495</td>\n",
       "      <td>awal nya sih senang uda datang hardisk ini, eh...</td>\n",
       "      <td>positive</td>\n",
       "    </tr>\n",
       "    <tr>\n",
       "      <th>496</th>\n",
       "      <td>496</td>\n",
       "      <td>mantuuuuuuuuul beli 3biji pecah satu.. tapi ko...</td>\n",
       "      <td>negative</td>\n",
       "    </tr>\n",
       "    <tr>\n",
       "      <th>497</th>\n",
       "      <td>497</td>\n",
       "      <td>oke banget...thx</td>\n",
       "      <td>positive</td>\n",
       "    </tr>\n",
       "    <tr>\n",
       "      <th>498</th>\n",
       "      <td>498</td>\n",
       "      <td>Polytron dari dulu terkenal bagus dalam produk...</td>\n",
       "      <td>positive</td>\n",
       "    </tr>\n",
       "    <tr>\n",
       "      <th>499</th>\n",
       "      <td>499</td>\n",
       "      <td>top markotop, pengganti kala memo penuh.</td>\n",
       "      <td>positive</td>\n",
       "    </tr>\n",
       "  </tbody>\n",
       "</table>\n",
       "<p>500 rows × 3 columns</p>\n",
       "</div>"
      ],
      "text/plain": [
       "     index                                               text     label\n",
       "0        0  barang diterima dlm keadaan kypet tidak berfun...  negative\n",
       "1        1                         kualitas fungsi barang oke  positive\n",
       "2        2                                     SESUAI PESANAN  positive\n",
       "3        3  pengiriman lama sekali dioper2 oleh ninja expr...  negative\n",
       "4        4  Barang bagus. Original dengan harga miring. Th...  positive\n",
       "..     ...                                                ...       ...\n",
       "495    495  awal nya sih senang uda datang hardisk ini, eh...  positive\n",
       "496    496  mantuuuuuuuuul beli 3biji pecah satu.. tapi ko...  negative\n",
       "497    497                                   oke banget...thx  positive\n",
       "498    498  Polytron dari dulu terkenal bagus dalam produk...  positive\n",
       "499    499           top markotop, pengganti kala memo penuh.  positive\n",
       "\n",
       "[500 rows x 3 columns]"
      ]
     },
     "execution_count": 69,
     "metadata": {},
     "output_type": "execute_result"
    }
   ],
   "source": [
    "df"
   ]
  },
  {
   "cell_type": "code",
   "execution_count": 68,
   "id": "38677d45",
   "metadata": {},
   "outputs": [
    {
     "data": {
      "application/vnd.microsoft.datawrangler.viewer.v0+json": {
       "columns": [
        {
         "name": "index",
         "rawType": "int64",
         "type": "integer"
        },
        {
         "name": "Unnamed: 0",
         "rawType": "int64",
         "type": "integer"
        },
        {
         "name": "text",
         "rawType": "object",
         "type": "string"
        },
        {
         "name": "sentiment",
         "rawType": "int64",
         "type": "integer"
        }
       ],
       "ref": "e4d534c7-e0f6-4fa4-970b-6823b33cedc8",
       "rows": [
        [
         "0",
         "0",
         "barang diterima dlm keadaan kypet tidak berfungsi, barang cepat sampai. jujur kecewa karna barang yg di terima dlm keadaan kypet tidak berfungsi. lain kali barangnya boleh d cek kembali ya sebelum di kirim.",
         "1"
        ],
        [
         "1",
         "1",
         "kualitas fungsi barang oke",
         "1"
        ],
        [
         "2",
         "2",
         "SESUAI PESANAN",
         "1"
        ],
        [
         "3",
         "3",
         "pengiriman lama sekali dioper2 oleh ninja expressnya. semoga awet aja nih",
         "1"
        ],
        [
         "4",
         "4",
         "Barang bagus. Original dengan harga miring. Thx Lazada.",
         "1"
        ],
        [
         "5",
         "5",
         "Barang sudh smpai dengan aman.. packingannya rapi...thankiuuu bonus nyaa..",
         "1"
        ],
        [
         "6",
         "6",
         "Alhamdulillah barang sudah nyampai dengan selamat, packingnya bagus, barang original sesuai gambar..  terimakasih lazada.",
         "1"
        ],
        [
         "7",
         "7",
         "pengiriman responsif, packing rapi, barang sesuai pesanan.. good job.",
         "1"
        ],
        [
         "8",
         "8",
         "makasih kak , barangnya sampai dengan cepatt 👍",
         "1"
        ],
        [
         "9",
         "9",
         "barang diterima dalam kondisi baik,hanya sedikit bibgung,untuk pengiriman kartu garansinya.mohon petunjuk",
         "1"
        ],
        [
         "10",
         "10",
         "bagus, tahan dan kuat.",
         "1"
        ],
        [
         "11",
         "11",
         "Sayang datangnya lama..rencana mau buat hadiah ulang tahun anak saya..tapi datangnya malah setelah lewat tanggal...tapi anak saya tetep seneng sih...sekarang dia bisa main game kesenangan dengan ekstra detail, biar jadi gamer aja..jangan jadi koruptor",
         "1"
        ],
        [
         "12",
         "12",
         "standard saja kuaitasnya",
         "1"
        ],
        [
         "13",
         "13",
         "Tombol google assistant munculnya bluetooth mulu menelusuri aksesories, tolong segera dibantu gmn cara aktifkan fungsi tombol tersebut, kl tidak bisa saya mau retur aja",
         "1"
        ],
        [
         "14",
         "14",
         "alhamdulillah , sampai jateng dengan selamat 🙏🏻",
         "1"
        ],
        [
         "15",
         "15",
         "Barang sudah sampai. Maaf baru kasih review. Manteb deh pokoknya..",
         "1"
        ],
        [
         "16",
         "16",
         "terimakasih pesenan nya udah nyampe,,,order tgl 21  jam 11brng sampai tgl 23 jam 4 sore barang nya mulus, suaranya bagus,, pkok nya trimakasih  hee",
         "1"
        ],
        [
         "17",
         "17",
         "Kern barang original  lumayan dapat barang mewah tapi mura cepet baget sampnya order kemaren skrang udah di tanga cius super cepet",
         "1"
        ],
        [
         "18",
         "18",
         "pengiriman cepat dan responsif.barang belum dicoba, moga awet, thanks lazada...",
         "1"
        ],
        [
         "19",
         "19",
         "Kecewa, flashdiskny ga bisa diformat ke NTFS + copy file gede corrupt, mw jdiin bootable windows eh detect ny bkn 32gb malah jadi 33gb -_- abal nih fd kekny...",
         "1"
        ],
        [
         "20",
         "20",
         "tv y bagus. semoga awet",
         "1"
        ],
        [
         "21",
         "21",
         "parah pokoknya parah. nyampe nya mah cepet. pas di buka ga ada CD nya. BATERAI DROP. pas di pake harus sambil di charger. Udah berkali kali belanja di lazada baru kali ini beli di kecewakan. return secepatnya.",
         "1"
        ],
        [
         "22",
         "22",
         "Terimakasih kak barangnya cepat nyampeknya Barangnya bagus dengan harga murah tapi ngak murahan",
         "1"
        ],
        [
         "23",
         "23",
         "mantap tv nya tes",
         "1"
        ],
        [
         "24",
         "24",
         "MANTUL",
         "1"
        ],
        [
         "25",
         "25",
         "Minusnya pengiriman cukup lambat, maklum sih karena engga pake JNE, padahal udah dikenakan ongkir. Over all puas dengan barangnya, mini tapi performa cukup lah buat anak sekolah. Meski fanless, tapi ga panas. Audio juga mantap.",
         "1"
        ],
        [
         "26",
         "26",
         "trimakasih... barang bagus berfungsi moga awet yah...",
         "1"
        ],
        [
         "27",
         "27",
         "barang datang sesuai pesanan, langsung tak coba bisa.",
         "1"
        ],
        [
         "28",
         "28",
         "pengiriman terlalu lama",
         "1"
        ],
        [
         "29",
         "29",
         "Bagus.  Barang sesuai pesanan.",
         "1"
        ],
        [
         "30",
         "30",
         "Barang ok...pokoknya recommended.....",
         "1"
        ],
        [
         "31",
         "31",
         "mantap tanggung jawab juga sellernya",
         "1"
        ],
        [
         "32",
         "32",
         "barang bagus, gambar jernih, pengiriman cepat dan aman",
         "1"
        ],
        [
         "33",
         "33",
         "kualitas bagus sesuai diskripsi. semua berfungsi lancar. mudah-mudahan tv nya awet. pengiriman juga cepat",
         "1"
        ],
        [
         "34",
         "34",
         "bagus brangnya",
         "1"
        ],
        [
         "35",
         "35",
         "packing pakai palet dan dibungkus plastik jadi aman hasilnya tidak pecah atau lecet. sudah pasang dan pakai tidak ada masalah di hari pertama semoga aman terus tidak rusak",
         "1"
        ],
        [
         "36",
         "36",
         "barang ok, garansi resmi, tidak cacat. cm pengiriman lama bgt. pesen dr tgl 24 baru sampe tgl 2 feb pdhl estimasinya tgk 25/26 sdh sampai. itu pun harus komplen dlu ke e-chat lazadanya. tp enak nya bs COD jd ga perlu takut tipu2",
         "1"
        ],
        [
         "37",
         "37",
         "worth it buat di beli. ukuran kompak kapasitas besar.. packing jg aman.. sayang lupa di foto. hardisknya sdh disimpan di kantor",
         "1"
        ],
        [
         "38",
         "38",
         "Kemaren  sy udah kasih bintang 5.  Stlah sy coba pake 2 hari laptopnya uda berat/lelet, hr ini sy mau coba instl officenya dak bisa krn udah lelet duluan, dak bs nyelesaikan smpai sore dak slsai2 pasang office.  Mhn solusi dari seller......?",
         "1"
        ],
        [
         "39",
         "39",
         "pengiriman cepat, pesan tgl 28.... tgl 29 sudah sampai barangnya.... tks lazada...",
         "1"
        ],
        [
         "40",
         "40",
         "packingnya berbahaya, tanpa packing kayu, cuma di lapisi buble wrap🤦‍♂️",
         "1"
        ],
        [
         "41",
         "41",
         "Barang sudah tiba bosku .sesuai ke inginan saya jam 1 tiba ..terimakasih buat kurirnya .  Karna masih di pabrik jadi belum saya coba ..next time pasti order kembali",
         "1"
        ],
        [
         "42",
         "42",
         "produk sesuai dengan deskripsi... berfungsi semua nya dengan baik ..pengiriman cepat thx",
         "1"
        ],
        [
         "43",
         "43",
         "Jayyid",
         "1"
        ],
        [
         "44",
         "44",
         "Barang sudah sampai. Packing rapi dan aman. Terimakasih.",
         "1"
        ],
        [
         "45",
         "45",
         "Pesan Asus X541D, yang datang Asus X540NA",
         "1"
        ],
        [
         "46",
         "46",
         "packing rapih .. pengiriman juga cepat .. semoga awet .. thanks lazada",
         "1"
        ],
        [
         "47",
         "47",
         "berfungsi dngan baik,,trma kasih",
         "1"
        ],
        [
         "48",
         "48",
         "Sesuai pesanan",
         "1"
        ],
        [
         "49",
         "49",
         "Barang sesuai mantab",
         "1"
        ]
       ],
       "shape": {
        "columns": 3,
        "rows": 500
       }
      },
      "text/html": [
       "<div>\n",
       "<style scoped>\n",
       "    .dataframe tbody tr th:only-of-type {\n",
       "        vertical-align: middle;\n",
       "    }\n",
       "\n",
       "    .dataframe tbody tr th {\n",
       "        vertical-align: top;\n",
       "    }\n",
       "\n",
       "    .dataframe thead th {\n",
       "        text-align: right;\n",
       "    }\n",
       "</style>\n",
       "<table border=\"1\" class=\"dataframe\">\n",
       "  <thead>\n",
       "    <tr style=\"text-align: right;\">\n",
       "      <th></th>\n",
       "      <th>Unnamed: 0</th>\n",
       "      <th>text</th>\n",
       "      <th>sentiment</th>\n",
       "    </tr>\n",
       "  </thead>\n",
       "  <tbody>\n",
       "    <tr>\n",
       "      <th>0</th>\n",
       "      <td>0</td>\n",
       "      <td>barang diterima dlm keadaan kypet tidak berfun...</td>\n",
       "      <td>1</td>\n",
       "    </tr>\n",
       "    <tr>\n",
       "      <th>1</th>\n",
       "      <td>1</td>\n",
       "      <td>kualitas fungsi barang oke</td>\n",
       "      <td>1</td>\n",
       "    </tr>\n",
       "    <tr>\n",
       "      <th>2</th>\n",
       "      <td>2</td>\n",
       "      <td>SESUAI PESANAN</td>\n",
       "      <td>1</td>\n",
       "    </tr>\n",
       "    <tr>\n",
       "      <th>3</th>\n",
       "      <td>3</td>\n",
       "      <td>pengiriman lama sekali dioper2 oleh ninja expr...</td>\n",
       "      <td>1</td>\n",
       "    </tr>\n",
       "    <tr>\n",
       "      <th>4</th>\n",
       "      <td>4</td>\n",
       "      <td>Barang bagus. Original dengan harga miring. Th...</td>\n",
       "      <td>1</td>\n",
       "    </tr>\n",
       "    <tr>\n",
       "      <th>...</th>\n",
       "      <td>...</td>\n",
       "      <td>...</td>\n",
       "      <td>...</td>\n",
       "    </tr>\n",
       "    <tr>\n",
       "      <th>495</th>\n",
       "      <td>495</td>\n",
       "      <td>awal nya sih senang uda datang hardisk ini, eh...</td>\n",
       "      <td>1</td>\n",
       "    </tr>\n",
       "    <tr>\n",
       "      <th>496</th>\n",
       "      <td>496</td>\n",
       "      <td>mantuuuuuuuuul beli 3biji pecah satu.. tapi ko...</td>\n",
       "      <td>1</td>\n",
       "    </tr>\n",
       "    <tr>\n",
       "      <th>497</th>\n",
       "      <td>497</td>\n",
       "      <td>oke banget...thx</td>\n",
       "      <td>1</td>\n",
       "    </tr>\n",
       "    <tr>\n",
       "      <th>498</th>\n",
       "      <td>498</td>\n",
       "      <td>Polytron dari dulu terkenal bagus dalam produk...</td>\n",
       "      <td>1</td>\n",
       "    </tr>\n",
       "    <tr>\n",
       "      <th>499</th>\n",
       "      <td>499</td>\n",
       "      <td>top markotop, pengganti kala memo penuh.</td>\n",
       "      <td>1</td>\n",
       "    </tr>\n",
       "  </tbody>\n",
       "</table>\n",
       "<p>500 rows × 3 columns</p>\n",
       "</div>"
      ],
      "text/plain": [
       "     Unnamed: 0                                               text  sentiment\n",
       "0             0  barang diterima dlm keadaan kypet tidak berfun...          1\n",
       "1             1                         kualitas fungsi barang oke          1\n",
       "2             2                                     SESUAI PESANAN          1\n",
       "3             3  pengiriman lama sekali dioper2 oleh ninja expr...          1\n",
       "4             4  Barang bagus. Original dengan harga miring. Th...          1\n",
       "..          ...                                                ...        ...\n",
       "495         495  awal nya sih senang uda datang hardisk ini, eh...          1\n",
       "496         496  mantuuuuuuuuul beli 3biji pecah satu.. tapi ko...          1\n",
       "497         497                                   oke banget...thx          1\n",
       "498         498  Polytron dari dulu terkenal bagus dalam produk...          1\n",
       "499         499           top markotop, pengganti kala memo penuh.          1\n",
       "\n",
       "[500 rows x 3 columns]"
      ]
     },
     "execution_count": 68,
     "metadata": {},
     "output_type": "execute_result"
    }
   ],
   "source": [
    "lazada_test_df"
   ]
  }
 ],
 "metadata": {
  "kernelspec": {
   "display_name": "sentika",
   "language": "python",
   "name": "python3"
  },
  "language_info": {
   "codemirror_mode": {
    "name": "ipython",
    "version": 3
   },
   "file_extension": ".py",
   "mimetype": "text/x-python",
   "name": "python",
   "nbconvert_exporter": "python",
   "pygments_lexer": "ipython3",
   "version": "3.13.5"
  }
 },
 "nbformat": 4,
 "nbformat_minor": 5
}
